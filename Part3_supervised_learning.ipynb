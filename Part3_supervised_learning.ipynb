{
 "cells": [
  {
   "cell_type": "markdown",
   "id": "925fe583",
   "metadata": {},
   "source": [
    "# Part 3: Supervised Model Training and Evaluation"
   ]
  },
  {
   "cell_type": "markdown",
   "id": "81c27ee3",
   "metadata": {},
   "source": [
    "**Import libraries**"
   ]
  },
  {
   "cell_type": "code",
   "execution_count": 1,
   "id": "be3bf554",
   "metadata": {},
   "outputs": [
    {
     "name": "stdout",
     "output_type": "stream",
     "text": [
      "Vis setup Complete\n",
      "Setup complete\n"
     ]
    }
   ],
   "source": [
    "import pandas as pd\n",
    "import numpy as np\n",
    "pd.set_option('max_rows', 10)\n",
    "pd.plotting.register_matplotlib_converters()\n",
    "import matplotlib.pyplot as plt\n",
    "%matplotlib inline\n",
    "import seaborn as sns\n",
    "from sklearn.metrics import mean_absolute_error\n",
    "from sklearn.model_selection import train_test_split\n",
    "from sklearn.tree import DecisionTreeRegressor\n",
    "print(\"Vis setup Complete\")\n",
    "print(\"Setup complete\")"
   ]
  },
  {
   "cell_type": "markdown",
   "id": "011b5387",
   "metadata": {},
   "source": [
    "**Load cleansed dataset**"
   ]
  },
  {
   "cell_type": "code",
   "execution_count": 2,
   "id": "2a4e8bb0",
   "metadata": {},
   "outputs": [
    {
     "data": {
      "text/plain": [
       "(75068, 60)"
      ]
     },
     "execution_count": 2,
     "metadata": {},
     "output_type": "execute_result"
    }
   ],
   "source": [
    "path = r\"C:\\Users\\Matt-\\Documents\\aacmpsem2\\DataMining\\cw2\\cwfinals\\diab_cleansed.csv\"\n",
    "\n",
    "diab_cleansed = pd.read_csv(path)\n",
    "\n",
    "diab = diab_cleansed\n",
    "\n",
    "diab.shape"
   ]
  },
  {
   "cell_type": "markdown",
   "id": "f48f4b43",
   "metadata": {},
   "source": [
    "**Assign input variables (X)** "
   ]
  },
  {
   "cell_type": "code",
   "execution_count": 3,
   "id": "fb623f31",
   "metadata": {},
   "outputs": [
    {
     "data": {
      "text/plain": [
       "(75068, 59)"
      ]
     },
     "execution_count": 3,
     "metadata": {},
     "output_type": "execute_result"
    }
   ],
   "source": [
    "# List of all columns minus diabetes_mellitus\n",
    "diab_cols = ['age', 'height', 'weight', 'bmi', 'h1_temp_max', 'h1_temp_min', 'd1_albumin_max', \n",
    "             'd1_albumin_min', 'd1_bilirubin_max', 'd1_bilirubin_min', 'd1_bun_max', 'd1_bun_min', \n",
    "             'd1_glucose_min', 'd1_hco3_max', 'd1_hco3_min', 'd1_platelets_max', 'd1_platelets_min', \n",
    "             'd1_potassium_max', 'd1_potassium_min', 'd1_sodium_max', 'd1_sodium_min', 'd1_wbc_max', \n",
    "             'd1_wbc_min', 'h1_glucose_max', 'h1_glucose_min', 'wbc_apache', 'd1_heartrate_max', \n",
    "             'heart_rate_apache', 'creatinine_apache', 'h1_spo2_max', 'map_apache', 'elective_surgery', \n",
    "             'gcs_eyes_apache', 'gcs_motor_apache', 'intubated_apache', 'ventilated_apache', \n",
    "             'aids', 'cirrhosis', 'hepatic_failure', 'immunosuppression', 'leukemia', 'lymphoma',\n",
    "             'solid_tumor_with_metastasis', 'icu_CCU-CTICU', 'icu_CSICU', 'icu_CTICU', 'icu_Cardiac ICU', \n",
    "             'icu_MICU', 'icu_Med-Surg ICU', 'icu_Neuro ICU', 'icu_SICU', 'gen_F', 'gen_M', 'eth_African American', \n",
    "             'eth_Asian', 'eth_Caucasian', 'eth_Hispanic', 'eth_Native American', 'eth_Other/Unknown']\n",
    "\n",
    "X = diab[diab_cols]\n",
    "\n",
    "# Check data frame has one less feature\n",
    "X.shape"
   ]
  },
  {
   "cell_type": "markdown",
   "id": "44bc3cf4",
   "metadata": {},
   "source": [
    "**Assign target variable (y)**"
   ]
  },
  {
   "cell_type": "code",
   "execution_count": 4,
   "id": "46bbd345",
   "metadata": {},
   "outputs": [
    {
     "data": {
      "text/plain": [
       "0    1\n",
       "1    0\n",
       "2    0\n",
       "3    0\n",
       "4    1\n",
       "Name: diabetes_mellitus, dtype: int64"
      ]
     },
     "execution_count": 4,
     "metadata": {},
     "output_type": "execute_result"
    }
   ],
   "source": [
    "y = diab.diabetes_mellitus\n",
    "\n",
    "y.head()"
   ]
  },
  {
   "cell_type": "markdown",
   "id": "188ecf4e",
   "metadata": {},
   "source": [
    "## Split dataset into train, validation and test sets"
   ]
  },
  {
   "cell_type": "code",
   "execution_count": 5,
   "id": "bf4724e5",
   "metadata": {},
   "outputs": [
    {
     "name": "stdout",
     "output_type": "stream",
     "text": [
      "Train data input (X): (48043, 59)\n",
      "Val data input (X): (12011, 59)\n",
      "Test data input (X): (15014, 59)\n",
      "Train data target (y): 0    31749\n",
      "1    16294\n",
      "Name: diabetes_mellitus, dtype: int64\n",
      "Val data target (y): 0    7938\n",
      "1    4073\n",
      "Name: diabetes_mellitus, dtype: int64\n",
      "Test data target (y): 0    9922\n",
      "1    5092\n",
      "Name: diabetes_mellitus, dtype: int64\n"
     ]
    }
   ],
   "source": [
    "from sklearn.model_selection import train_test_split\n",
    "\n",
    "# Divide dataset with stratification of target variable\n",
    "# Test set will be 20% of the entire dataset\n",
    "\n",
    "part1_X, test_X, part1_y, test_y = train_test_split(X, y, test_size=0.2, random_state=1, stratify=y)\n",
    "train_X, val_X, train_y, val_y = train_test_split(part1_X, part1_y, test_size=0.2, random_state=1, stratify=part1_y)\n",
    "\n",
    "# Test to see data has been split as intended\n",
    "print(\"Train data input (X):\",train_X.shape)\n",
    "print(\"Val data input (X):\",val_X.shape)\n",
    "print(\"Test data input (X):\",test_X.shape)\n",
    "print(\"Train data target (y):\",train_y.value_counts())\n",
    "print(\"Val data target (y):\",val_y.value_counts())\n",
    "print(\"Test data target (y):\",test_y.value_counts())"
   ]
  },
  {
   "cell_type": "markdown",
   "id": "87b17647",
   "metadata": {},
   "source": [
    "**Visualise target variable across three sets**"
   ]
  },
  {
   "cell_type": "code",
   "execution_count": 6,
   "id": "3b3a8f6f",
   "metadata": {},
   "outputs": [
    {
     "data": {
      "image/png": "[encoded data removed]",
      "text/plain": [
       "<Figure size 504x504 with 4 Axes>"
      ]
     },
     "metadata": {
      "needs_background": "light"
     },
     "output_type": "display_data"
    }
   ],
   "source": [
    "# Set up the matplotlib figure\n",
    "f, axes = plt.subplots(2, 2, figsize=(7, 7), sharex=True)\n",
    "sns.despine(left=True)\n",
    "\n",
    "#Train data\n",
    "df=train_y.to_frame()\n",
    "sns.countplot(x='diabetes_mellitus',data=df,ax=axes[0, 0]).set_title(\"Train\")\n",
    "\n",
    "#Validation data\n",
    "df=val_y.to_frame()\n",
    "sns.countplot(x='diabetes_mellitus',data=df,ax=axes[0, 1]).set_title(\"Validation\")\n",
    "\n",
    "#Test data\n",
    "df=test_y.to_frame()\n",
    "sns.countplot(x='diabetes_mellitus',data=df,ax=axes[1, 0]).set_title(\"Test\")\n",
    "\n",
    "#original data\n",
    "sns.countplot(x='diabetes_mellitus',data=diab,ax=axes[1, 1]).set_title(\"Original\")\n",
    "plt.setp(axes, yticks=[])\n",
    "plt.tight_layout()"
   ]
  },
  {
   "cell_type": "markdown",
   "id": "c4135f83",
   "metadata": {},
   "source": [
    "## Feature selection on train set"
   ]
  },
  {
   "cell_type": "markdown",
   "id": "ac5848e6",
   "metadata": {},
   "source": [
    "### Feature ranking"
   ]
  },
  {
   "cell_type": "code",
   "execution_count": 7,
   "id": "55c7dd17",
   "metadata": {},
   "outputs": [
    {
     "name": "stdout",
     "output_type": "stream",
     "text": [
      "                     feat_names  mutual_info\n",
      "23               h1_glucose_max     0.036214\n",
      "24               h1_glucose_min     0.031851\n",
      "12               d1_glucose_min     0.029267\n",
      "3                           bmi     0.021334\n",
      "2                        weight     0.015656\n",
      "10                   d1_bun_max     0.015267\n",
      "28            creatinine_apache     0.013160\n",
      "0                           age     0.012850\n",
      "11                   d1_bun_min     0.011041\n",
      "17             d1_potassium_max     0.009811\n",
      "18             d1_potassium_min     0.005902\n",
      "52                        gen_M     0.005636\n",
      "33             gcs_motor_apache     0.005246\n",
      "20                d1_sodium_min     0.005244\n",
      "44                    icu_CSICU     0.004921\n",
      "27            heart_rate_apache     0.004863\n",
      "26             d1_heartrate_max     0.004587\n",
      "16             d1_platelets_min     0.003631\n",
      "50                     icu_SICU     0.003617\n",
      "35            ventilated_apache     0.003550\n",
      "55                eth_Caucasian     0.003435\n",
      "49                icu_Neuro ICU     0.003402\n",
      "41                     lymphoma     0.003194\n",
      "36                         aids     0.003184\n",
      "53         eth_African American     0.003085\n",
      "14                  d1_hco3_min     0.002866\n",
      "42  solid_tumor_with_metastasis     0.002693\n",
      "38              hepatic_failure     0.002645\n",
      "46              icu_Cardiac ICU     0.002478\n",
      "25                   wbc_apache     0.002135\n",
      "47                     icu_MICU     0.001846\n",
      "32              gcs_eyes_apache     0.001536\n",
      "5                   h1_temp_min     0.001359\n",
      "48             icu_Med-Surg ICU     0.001336\n",
      "22                   d1_wbc_min     0.001093\n",
      "39            immunosuppression     0.000984\n",
      "13                  d1_hco3_max     0.000940\n",
      "6                d1_albumin_max     0.000926\n",
      "7                d1_albumin_min     0.000891\n",
      "37                    cirrhosis     0.000817\n",
      "19                d1_sodium_max     0.000569\n",
      "21                   d1_wbc_max     0.000410\n",
      "51                        gen_F     0.000395\n",
      "31             elective_surgery     0.000192\n",
      "34             intubated_apache     0.000118\n",
      "8              d1_bilirubin_max     0.000000\n",
      "9              d1_bilirubin_min     0.000000\n",
      "15             d1_platelets_max     0.000000\n",
      "54                    eth_Asian     0.000000\n",
      "56                 eth_Hispanic     0.000000\n",
      "57          eth_Native American     0.000000\n",
      "58            eth_Other/Unknown     0.000000\n",
      "29                  h1_spo2_max     0.000000\n",
      "4                   h1_temp_max     0.000000\n",
      "1                        height     0.000000\n",
      "43                icu_CCU-CTICU     0.000000\n",
      "45                    icu_CTICU     0.000000\n",
      "40                     leukemia     0.000000\n",
      "30                   map_apache     0.000000\n",
      "Length:  59\n"
     ]
    }
   ],
   "source": [
    "from sklearn.feature_selection import SelectKBest, mutual_info_classif\n",
    "\n",
    "# Select all features\n",
    "selector = SelectKBest(score_func=mutual_info_classif, k='all')\n",
    "\n",
    "# Pass input and target variables of train set \n",
    "Xfs = selector.fit_transform(train_X, train_y)\n",
    "\n",
    "# Get column names \n",
    "names = train_X.columns.values[selector.get_support()]\n",
    "\n",
    "# Det scores\n",
    "scores = selector.scores_[selector.get_support()]\n",
    "\n",
    "# Use zip to allocate column names to score \n",
    "names_scores = list(zip(names, scores))\n",
    "\n",
    "# Create data frame for names and scores\n",
    "ns_df = pd.DataFrame(data=names_scores, columns=['feat_names', 'mutual_info'])\n",
    "\n",
    "# Sort in descending order\n",
    "ns_ranked = ns_df.sort_values(['mutual_info', 'feat_names'], ascending = [False, True])\n",
    "\n",
    "# View all features\n",
    "pd.set_option('display.max_rows', None)\n",
    "\n",
    "print(ns_ranked)\n",
    "print('Length: ', len(ns_ranked))"
   ]
  },
  {
   "cell_type": "markdown",
   "id": "c6da8fa7",
   "metadata": {},
   "source": [
    "**Find lower half of ranked features**"
   ]
  },
  {
   "cell_type": "code",
   "execution_count": 8,
   "id": "13be0588",
   "metadata": {},
   "outputs": [
    {
     "name": "stdout",
     "output_type": "stream",
     "text": [
      "             feat_names  mutual_info\n",
      "47             icu_MICU     0.001846\n",
      "32      gcs_eyes_apache     0.001536\n",
      "5           h1_temp_min     0.001359\n",
      "48     icu_Med-Surg ICU     0.001336\n",
      "22           d1_wbc_min     0.001093\n",
      "39    immunosuppression     0.000984\n",
      "13          d1_hco3_max     0.000940\n",
      "6        d1_albumin_max     0.000926\n",
      "7        d1_albumin_min     0.000891\n",
      "37            cirrhosis     0.000817\n",
      "19        d1_sodium_max     0.000569\n",
      "21           d1_wbc_max     0.000410\n",
      "51                gen_F     0.000395\n",
      "31     elective_surgery     0.000192\n",
      "34     intubated_apache     0.000118\n",
      "8      d1_bilirubin_max     0.000000\n",
      "9      d1_bilirubin_min     0.000000\n",
      "15     d1_platelets_max     0.000000\n",
      "54            eth_Asian     0.000000\n",
      "56         eth_Hispanic     0.000000\n",
      "57  eth_Native American     0.000000\n",
      "58    eth_Other/Unknown     0.000000\n",
      "29          h1_spo2_max     0.000000\n",
      "4           h1_temp_max     0.000000\n",
      "1                height     0.000000\n",
      "43        icu_CCU-CTICU     0.000000\n",
      "45            icu_CTICU     0.000000\n",
      "40             leukemia     0.000000\n",
      "30           map_apache     0.000000\n"
     ]
    }
   ],
   "source": [
    "bottom_ns_ranked = ns_ranked[30:]\n",
    "print(bottom_ns_ranked)"
   ]
  },
  {
   "cell_type": "markdown",
   "id": "f81a4ed9",
   "metadata": {},
   "source": [
    "**Drop lowest ranked features from train, validation and test sets**"
   ]
  },
  {
   "cell_type": "code",
   "execution_count": 9,
   "id": "5eb6c4c7",
   "metadata": {},
   "outputs": [
    {
     "name": "stdout",
     "output_type": "stream",
     "text": [
      "['icu_MICU', 'gcs_eyes_apache', 'h1_temp_min', 'icu_Med-Surg ICU', 'd1_wbc_min', 'immunosuppression', 'd1_hco3_max', 'd1_albumin_max', 'd1_albumin_min', 'cirrhosis', 'd1_sodium_max', 'd1_wbc_max', 'gen_F', 'elective_surgery', 'intubated_apache', 'd1_bilirubin_max', 'd1_bilirubin_min', 'd1_platelets_max', 'eth_Asian', 'eth_Hispanic', 'eth_Native American', 'eth_Other/Unknown', 'h1_spo2_max', 'h1_temp_max', 'height', 'icu_CCU-CTICU', 'icu_CTICU', 'leukemia', 'map_apache'] \n",
      "\n",
      "Train set shape before dropping:  (48043, 59)\n",
      "Validation set shape before dropping:  (12011, 59)\n",
      "Test set shape before dropping:  (15014, 59)\n",
      "Train set shape after dropping:  (48043, 30)\n",
      "Validation set shape after dropping:  (12011, 30)\n",
      "Test set shape after dropping:  (15014, 30)\n"
     ]
    },
    {
     "name": "stderr",
     "output_type": "stream",
     "text": [
      "C:\\Users\\Matt-\\anaconda3\\lib\\site-packages\\pandas\\core\\frame.py:4308: SettingWithCopyWarning: \n",
      "A value is trying to be set on a copy of a slice from a DataFrame\n",
      "\n",
      "See the caveats in the documentation: https://pandas.pydata.org/pandas-docs/stable/user_guide/indexing.html#returning-a-view-versus-a-copy\n",
      "  return super().drop(\n"
     ]
    }
   ],
   "source": [
    "# Create an empty array to which to append feature names\n",
    "bottom_ranked_list = []\n",
    "\n",
    "# Create for loop to iterate over data frame\n",
    "for index, row in bottom_ns_ranked.iterrows():\n",
    "    bottom_ranked_list.append(row['feat_names'])    \n",
    "print(bottom_ranked_list, '\\n')\n",
    "\n",
    "# For testing - check shape before row omission\n",
    "print('Train set shape before dropping: ', train_X.shape)\n",
    "print('Validation set shape before dropping: ', val_X.shape)\n",
    "print('Test set shape before dropping: ', test_X.shape)\n",
    "\n",
    "# Drop features\n",
    "train_X.drop(bottom_ranked_list, axis=1, inplace=True)\n",
    "val_X.drop(bottom_ranked_list, axis=1, inplace=True)\n",
    "test_X.drop(bottom_ranked_list, axis=1, inplace=True)\n",
    "\n",
    "# For testing - check shape after row omission\n",
    "print('Train set shape after dropping: ', train_X.shape)\n",
    "print('Validation set shape after dropping: ', val_X.shape)\n",
    "print('Test set shape after dropping: ', test_X.shape)"
   ]
  },
  {
   "cell_type": "markdown",
   "id": "af894605",
   "metadata": {},
   "source": [
    "### Correlation of features (Pearson)"
   ]
  },
  {
   "cell_type": "code",
   "execution_count": 10,
   "id": "3bf71198",
   "metadata": {},
   "outputs": [
    {
     "data": {
      "text/html": [
       "<div>\n",
       "<style scoped>\n",
       "    .dataframe tbody tr th:only-of-type {\n",
       "        vertical-align: middle;\n",
       "    }\n",
       "\n",
       "    .dataframe tbody tr th {\n",
       "        vertical-align: top;\n",
       "    }\n",
       "\n",
       "    .dataframe thead th {\n",
       "        text-align: right;\n",
       "    }\n",
       "</style>\n",
       "<table border=\"1\" class=\"dataframe\">\n",
       "  <thead>\n",
       "    <tr style=\"text-align: right;\">\n",
       "      <th></th>\n",
       "      <th>age</th>\n",
       "      <th>weight</th>\n",
       "      <th>bmi</th>\n",
       "      <th>d1_bun_max</th>\n",
       "      <th>d1_bun_min</th>\n",
       "      <th>d1_glucose_min</th>\n",
       "      <th>d1_hco3_min</th>\n",
       "      <th>d1_platelets_min</th>\n",
       "      <th>d1_potassium_max</th>\n",
       "      <th>d1_potassium_min</th>\n",
       "      <th>...</th>\n",
       "      <th>hepatic_failure</th>\n",
       "      <th>lymphoma</th>\n",
       "      <th>solid_tumor_with_metastasis</th>\n",
       "      <th>icu_CSICU</th>\n",
       "      <th>icu_Cardiac ICU</th>\n",
       "      <th>icu_Neuro ICU</th>\n",
       "      <th>icu_SICU</th>\n",
       "      <th>gen_M</th>\n",
       "      <th>eth_African American</th>\n",
       "      <th>eth_Caucasian</th>\n",
       "    </tr>\n",
       "  </thead>\n",
       "  <tbody>\n",
       "    <tr>\n",
       "      <th>age</th>\n",
       "      <td>1.000000</td>\n",
       "      <td>-0.117666</td>\n",
       "      <td>-0.078853</td>\n",
       "      <td>0.235396</td>\n",
       "      <td>0.256867</td>\n",
       "      <td>0.059781</td>\n",
       "      <td>0.097580</td>\n",
       "      <td>-0.072788</td>\n",
       "      <td>0.062369</td>\n",
       "      <td>0.106501</td>\n",
       "      <td>...</td>\n",
       "      <td>-0.014095</td>\n",
       "      <td>0.024645</td>\n",
       "      <td>0.026471</td>\n",
       "      <td>0.039525</td>\n",
       "      <td>0.010429</td>\n",
       "      <td>-0.025909</td>\n",
       "      <td>-0.009881</td>\n",
       "      <td>-0.017330</td>\n",
       "      <td>-0.082064</td>\n",
       "      <td>0.093379</td>\n",
       "    </tr>\n",
       "    <tr>\n",
       "      <th>weight</th>\n",
       "      <td>-0.117666</td>\n",
       "      <td>1.000000</td>\n",
       "      <td>0.872370</td>\n",
       "      <td>0.041530</td>\n",
       "      <td>0.047191</td>\n",
       "      <td>0.121459</td>\n",
       "      <td>0.106315</td>\n",
       "      <td>-0.009842</td>\n",
       "      <td>0.090864</td>\n",
       "      <td>0.103796</td>\n",
       "      <td>...</td>\n",
       "      <td>0.000121</td>\n",
       "      <td>-0.007998</td>\n",
       "      <td>-0.035563</td>\n",
       "      <td>0.011211</td>\n",
       "      <td>-0.001481</td>\n",
       "      <td>-0.012738</td>\n",
       "      <td>0.002476</td>\n",
       "      <td>0.187578</td>\n",
       "      <td>0.039248</td>\n",
       "      <td>0.030562</td>\n",
       "    </tr>\n",
       "    <tr>\n",
       "      <th>bmi</th>\n",
       "      <td>-0.078853</td>\n",
       "      <td>0.872370</td>\n",
       "      <td>1.000000</td>\n",
       "      <td>0.038102</td>\n",
       "      <td>0.044410</td>\n",
       "      <td>0.119244</td>\n",
       "      <td>0.105806</td>\n",
       "      <td>0.024500</td>\n",
       "      <td>0.076277</td>\n",
       "      <td>0.088041</td>\n",
       "      <td>...</td>\n",
       "      <td>-0.006601</td>\n",
       "      <td>-0.008195</td>\n",
       "      <td>-0.040420</td>\n",
       "      <td>0.002674</td>\n",
       "      <td>-0.002762</td>\n",
       "      <td>-0.015622</td>\n",
       "      <td>-0.004515</td>\n",
       "      <td>-0.043587</td>\n",
       "      <td>0.035420</td>\n",
       "      <td>0.002380</td>\n",
       "    </tr>\n",
       "    <tr>\n",
       "      <th>d1_bun_max</th>\n",
       "      <td>0.235396</td>\n",
       "      <td>0.041530</td>\n",
       "      <td>0.038102</td>\n",
       "      <td>1.000000</td>\n",
       "      <td>0.972855</td>\n",
       "      <td>-0.009227</td>\n",
       "      <td>-0.182161</td>\n",
       "      <td>-0.097884</td>\n",
       "      <td>0.334244</td>\n",
       "      <td>0.251823</td>\n",
       "      <td>...</td>\n",
       "      <td>0.048595</td>\n",
       "      <td>0.007122</td>\n",
       "      <td>0.008633</td>\n",
       "      <td>-0.029997</td>\n",
       "      <td>0.022396</td>\n",
       "      <td>-0.072711</td>\n",
       "      <td>-0.021179</td>\n",
       "      <td>0.048695</td>\n",
       "      <td>0.021573</td>\n",
       "      <td>-0.013157</td>\n",
       "    </tr>\n",
       "    <tr>\n",
       "      <th>d1_bun_min</th>\n",
       "      <td>0.256867</td>\n",
       "      <td>0.047191</td>\n",
       "      <td>0.044410</td>\n",
       "      <td>0.972855</td>\n",
       "      <td>1.000000</td>\n",
       "      <td>0.010066</td>\n",
       "      <td>-0.130759</td>\n",
       "      <td>-0.088101</td>\n",
       "      <td>0.292356</td>\n",
       "      <td>0.285648</td>\n",
       "      <td>...</td>\n",
       "      <td>0.049088</td>\n",
       "      <td>0.007713</td>\n",
       "      <td>0.010933</td>\n",
       "      <td>-0.030244</td>\n",
       "      <td>0.022798</td>\n",
       "      <td>-0.068402</td>\n",
       "      <td>-0.022142</td>\n",
       "      <td>0.049893</td>\n",
       "      <td>0.019097</td>\n",
       "      <td>-0.009800</td>\n",
       "    </tr>\n",
       "    <tr>\n",
       "      <th>d1_glucose_min</th>\n",
       "      <td>0.059781</td>\n",
       "      <td>0.121459</td>\n",
       "      <td>0.119244</td>\n",
       "      <td>-0.009227</td>\n",
       "      <td>0.010066</td>\n",
       "      <td>1.000000</td>\n",
       "      <td>0.048815</td>\n",
       "      <td>0.066892</td>\n",
       "      <td>-0.008253</td>\n",
       "      <td>0.092558</td>\n",
       "      <td>...</td>\n",
       "      <td>-0.015183</td>\n",
       "      <td>-0.001306</td>\n",
       "      <td>0.013831</td>\n",
       "      <td>-0.021380</td>\n",
       "      <td>0.014383</td>\n",
       "      <td>0.024860</td>\n",
       "      <td>-0.005377</td>\n",
       "      <td>0.006114</td>\n",
       "      <td>-0.011425</td>\n",
       "      <td>0.012033</td>\n",
       "    </tr>\n",
       "    <tr>\n",
       "      <th>d1_hco3_min</th>\n",
       "      <td>0.097580</td>\n",
       "      <td>0.106315</td>\n",
       "      <td>0.105806</td>\n",
       "      <td>-0.182161</td>\n",
       "      <td>-0.130759</td>\n",
       "      <td>0.048815</td>\n",
       "      <td>1.000000</td>\n",
       "      <td>0.087538</td>\n",
       "      <td>-0.194765</td>\n",
       "      <td>0.026400</td>\n",
       "      <td>...</td>\n",
       "      <td>-0.038660</td>\n",
       "      <td>0.004182</td>\n",
       "      <td>-0.010180</td>\n",
       "      <td>-0.001967</td>\n",
       "      <td>0.017654</td>\n",
       "      <td>0.017544</td>\n",
       "      <td>-0.007274</td>\n",
       "      <td>0.020686</td>\n",
       "      <td>-0.023723</td>\n",
       "      <td>0.033649</td>\n",
       "    </tr>\n",
       "    <tr>\n",
       "      <th>d1_platelets_min</th>\n",
       "      <td>-0.072788</td>\n",
       "      <td>-0.009842</td>\n",
       "      <td>0.024500</td>\n",
       "      <td>-0.097884</td>\n",
       "      <td>-0.088101</td>\n",
       "      <td>0.066892</td>\n",
       "      <td>0.087538</td>\n",
       "      <td>1.000000</td>\n",
       "      <td>-0.068194</td>\n",
       "      <td>0.019255</td>\n",
       "      <td>...</td>\n",
       "      <td>-0.098116</td>\n",
       "      <td>-0.029748</td>\n",
       "      <td>-0.007717</td>\n",
       "      <td>-0.020675</td>\n",
       "      <td>0.010431</td>\n",
       "      <td>0.034860</td>\n",
       "      <td>-0.010944</td>\n",
       "      <td>-0.092885</td>\n",
       "      <td>0.024113</td>\n",
       "      <td>-0.012888</td>\n",
       "    </tr>\n",
       "    <tr>\n",
       "      <th>d1_potassium_max</th>\n",
       "      <td>0.062369</td>\n",
       "      <td>0.090864</td>\n",
       "      <td>0.076277</td>\n",
       "      <td>0.334244</td>\n",
       "      <td>0.292356</td>\n",
       "      <td>-0.008253</td>\n",
       "      <td>-0.194765</td>\n",
       "      <td>-0.068194</td>\n",
       "      <td>1.000000</td>\n",
       "      <td>0.661482</td>\n",
       "      <td>...</td>\n",
       "      <td>0.013670</td>\n",
       "      <td>0.002475</td>\n",
       "      <td>-0.004420</td>\n",
       "      <td>0.029472</td>\n",
       "      <td>-0.001782</td>\n",
       "      <td>-0.064067</td>\n",
       "      <td>0.015759</td>\n",
       "      <td>0.062641</td>\n",
       "      <td>0.007258</td>\n",
       "      <td>0.005741</td>\n",
       "    </tr>\n",
       "    <tr>\n",
       "      <th>d1_potassium_min</th>\n",
       "      <td>0.106501</td>\n",
       "      <td>0.103796</td>\n",
       "      <td>0.088041</td>\n",
       "      <td>0.251823</td>\n",
       "      <td>0.285648</td>\n",
       "      <td>0.092558</td>\n",
       "      <td>0.026400</td>\n",
       "      <td>0.019255</td>\n",
       "      <td>0.661482</td>\n",
       "      <td>1.000000</td>\n",
       "      <td>...</td>\n",
       "      <td>0.006520</td>\n",
       "      <td>0.005277</td>\n",
       "      <td>0.006733</td>\n",
       "      <td>0.003695</td>\n",
       "      <td>0.009882</td>\n",
       "      <td>-0.018891</td>\n",
       "      <td>0.001616</td>\n",
       "      <td>0.070553</td>\n",
       "      <td>-0.002549</td>\n",
       "      <td>0.012621</td>\n",
       "    </tr>\n",
       "    <tr>\n",
       "      <th>d1_sodium_min</th>\n",
       "      <td>0.035453</td>\n",
       "      <td>-0.016517</td>\n",
       "      <td>-0.008937</td>\n",
       "      <td>-0.022081</td>\n",
       "      <td>0.000231</td>\n",
       "      <td>-0.054928</td>\n",
       "      <td>0.112813</td>\n",
       "      <td>-0.056141</td>\n",
       "      <td>-0.150492</td>\n",
       "      <td>-0.054959</td>\n",
       "      <td>...</td>\n",
       "      <td>-0.023121</td>\n",
       "      <td>-0.010747</td>\n",
       "      <td>-0.030953</td>\n",
       "      <td>0.028121</td>\n",
       "      <td>-0.003276</td>\n",
       "      <td>0.022251</td>\n",
       "      <td>-0.023633</td>\n",
       "      <td>-0.017695</td>\n",
       "      <td>0.015800</td>\n",
       "      <td>-0.008037</td>\n",
       "    </tr>\n",
       "    <tr>\n",
       "      <th>h1_glucose_max</th>\n",
       "      <td>-0.026316</td>\n",
       "      <td>0.041782</td>\n",
       "      <td>0.042581</td>\n",
       "      <td>0.004708</td>\n",
       "      <td>-0.015437</td>\n",
       "      <td>0.242087</td>\n",
       "      <td>-0.114982</td>\n",
       "      <td>0.011340</td>\n",
       "      <td>0.044414</td>\n",
       "      <td>-0.050617</td>\n",
       "      <td>...</td>\n",
       "      <td>-0.018065</td>\n",
       "      <td>-0.007473</td>\n",
       "      <td>-0.016475</td>\n",
       "      <td>0.001620</td>\n",
       "      <td>0.003824</td>\n",
       "      <td>-0.016579</td>\n",
       "      <td>-0.008878</td>\n",
       "      <td>-0.002902</td>\n",
       "      <td>0.010014</td>\n",
       "      <td>-0.012446</td>\n",
       "    </tr>\n",
       "    <tr>\n",
       "      <th>h1_glucose_min</th>\n",
       "      <td>-0.015449</td>\n",
       "      <td>0.048556</td>\n",
       "      <td>0.049426</td>\n",
       "      <td>0.009165</td>\n",
       "      <td>-0.006233</td>\n",
       "      <td>0.275703</td>\n",
       "      <td>-0.090365</td>\n",
       "      <td>0.023894</td>\n",
       "      <td>0.029280</td>\n",
       "      <td>-0.038305</td>\n",
       "      <td>...</td>\n",
       "      <td>-0.016940</td>\n",
       "      <td>-0.005365</td>\n",
       "      <td>-0.012627</td>\n",
       "      <td>-0.015614</td>\n",
       "      <td>0.009285</td>\n",
       "      <td>-0.009796</td>\n",
       "      <td>-0.006113</td>\n",
       "      <td>-0.002876</td>\n",
       "      <td>0.010871</td>\n",
       "      <td>-0.012606</td>\n",
       "    </tr>\n",
       "    <tr>\n",
       "      <th>wbc_apache</th>\n",
       "      <td>-0.003088</td>\n",
       "      <td>0.015456</td>\n",
       "      <td>0.021294</td>\n",
       "      <td>0.080297</td>\n",
       "      <td>0.069817</td>\n",
       "      <td>0.057546</td>\n",
       "      <td>-0.151996</td>\n",
       "      <td>0.183547</td>\n",
       "      <td>0.111832</td>\n",
       "      <td>0.023170</td>\n",
       "      <td>...</td>\n",
       "      <td>-0.015144</td>\n",
       "      <td>-0.015083</td>\n",
       "      <td>-0.000101</td>\n",
       "      <td>0.013112</td>\n",
       "      <td>-0.009269</td>\n",
       "      <td>-0.024275</td>\n",
       "      <td>0.019285</td>\n",
       "      <td>-0.010258</td>\n",
       "      <td>-0.020617</td>\n",
       "      <td>0.019765</td>\n",
       "    </tr>\n",
       "    <tr>\n",
       "      <th>d1_heartrate_max</th>\n",
       "      <td>-0.134646</td>\n",
       "      <td>-0.037228</td>\n",
       "      <td>-0.029211</td>\n",
       "      <td>0.012919</td>\n",
       "      <td>-0.003523</td>\n",
       "      <td>0.055915</td>\n",
       "      <td>-0.142751</td>\n",
       "      <td>0.019419</td>\n",
       "      <td>0.017829</td>\n",
       "      <td>-0.066395</td>\n",
       "      <td>...</td>\n",
       "      <td>0.015014</td>\n",
       "      <td>0.018956</td>\n",
       "      <td>0.039072</td>\n",
       "      <td>-0.038841</td>\n",
       "      <td>0.009572</td>\n",
       "      <td>-0.023635</td>\n",
       "      <td>0.008804</td>\n",
       "      <td>-0.033618</td>\n",
       "      <td>0.016920</td>\n",
       "      <td>-0.008340</td>\n",
       "    </tr>\n",
       "    <tr>\n",
       "      <th>heart_rate_apache</th>\n",
       "      <td>-0.147121</td>\n",
       "      <td>-0.029808</td>\n",
       "      <td>-0.021194</td>\n",
       "      <td>0.003876</td>\n",
       "      <td>-0.009339</td>\n",
       "      <td>0.061500</td>\n",
       "      <td>-0.124537</td>\n",
       "      <td>0.034300</td>\n",
       "      <td>-0.000968</td>\n",
       "      <td>-0.070286</td>\n",
       "      <td>...</td>\n",
       "      <td>0.014028</td>\n",
       "      <td>0.011986</td>\n",
       "      <td>0.036172</td>\n",
       "      <td>-0.043959</td>\n",
       "      <td>-0.001448</td>\n",
       "      <td>-0.026907</td>\n",
       "      <td>0.018182</td>\n",
       "      <td>-0.035612</td>\n",
       "      <td>0.023468</td>\n",
       "      <td>-0.016843</td>\n",
       "    </tr>\n",
       "    <tr>\n",
       "      <th>creatinine_apache</th>\n",
       "      <td>0.063310</td>\n",
       "      <td>0.071410</td>\n",
       "      <td>0.052484</td>\n",
       "      <td>0.643624</td>\n",
       "      <td>0.609227</td>\n",
       "      <td>-0.064695</td>\n",
       "      <td>-0.173534</td>\n",
       "      <td>-0.074532</td>\n",
       "      <td>0.307278</td>\n",
       "      <td>0.202068</td>\n",
       "      <td>...</td>\n",
       "      <td>0.019105</td>\n",
       "      <td>-0.001358</td>\n",
       "      <td>-0.012423</td>\n",
       "      <td>-0.023756</td>\n",
       "      <td>0.015198</td>\n",
       "      <td>-0.055748</td>\n",
       "      <td>-0.005924</td>\n",
       "      <td>0.064915</td>\n",
       "      <td>0.101917</td>\n",
       "      <td>-0.089600</td>\n",
       "    </tr>\n",
       "    <tr>\n",
       "      <th>gcs_motor_apache</th>\n",
       "      <td>0.016116</td>\n",
       "      <td>0.018781</td>\n",
       "      <td>0.024254</td>\n",
       "      <td>-0.049526</td>\n",
       "      <td>-0.032919</td>\n",
       "      <td>0.033463</td>\n",
       "      <td>0.104258</td>\n",
       "      <td>0.051613</td>\n",
       "      <td>-0.058603</td>\n",
       "      <td>0.070830</td>\n",
       "      <td>...</td>\n",
       "      <td>-0.005495</td>\n",
       "      <td>0.010852</td>\n",
       "      <td>0.016690</td>\n",
       "      <td>-0.028985</td>\n",
       "      <td>0.004222</td>\n",
       "      <td>-0.021928</td>\n",
       "      <td>0.004199</td>\n",
       "      <td>-0.012553</td>\n",
       "      <td>-0.018480</td>\n",
       "      <td>0.018419</td>\n",
       "    </tr>\n",
       "    <tr>\n",
       "      <th>ventilated_apache</th>\n",
       "      <td>0.044349</td>\n",
       "      <td>0.072873</td>\n",
       "      <td>0.074128</td>\n",
       "      <td>0.065001</td>\n",
       "      <td>0.052713</td>\n",
       "      <td>-0.023911</td>\n",
       "      <td>-0.028665</td>\n",
       "      <td>-0.095874</td>\n",
       "      <td>0.150236</td>\n",
       "      <td>-0.022471</td>\n",
       "      <td>...</td>\n",
       "      <td>-0.004658</td>\n",
       "      <td>-0.006897</td>\n",
       "      <td>-0.015323</td>\n",
       "      <td>0.044326</td>\n",
       "      <td>-0.027342</td>\n",
       "      <td>-0.038419</td>\n",
       "      <td>0.016769</td>\n",
       "      <td>0.019044</td>\n",
       "      <td>0.003519</td>\n",
       "      <td>0.012757</td>\n",
       "    </tr>\n",
       "    <tr>\n",
       "      <th>aids</th>\n",
       "      <td>-0.025201</td>\n",
       "      <td>-0.017433</td>\n",
       "      <td>-0.022380</td>\n",
       "      <td>0.009186</td>\n",
       "      <td>0.007657</td>\n",
       "      <td>-0.006037</td>\n",
       "      <td>-0.009286</td>\n",
       "      <td>-0.014624</td>\n",
       "      <td>-0.000470</td>\n",
       "      <td>-0.003512</td>\n",
       "      <td>...</td>\n",
       "      <td>0.002918</td>\n",
       "      <td>0.009750</td>\n",
       "      <td>0.000755</td>\n",
       "      <td>-0.005872</td>\n",
       "      <td>-0.001713</td>\n",
       "      <td>-0.005794</td>\n",
       "      <td>-0.004465</td>\n",
       "      <td>0.013666</td>\n",
       "      <td>0.020148</td>\n",
       "      <td>-0.012218</td>\n",
       "    </tr>\n",
       "    <tr>\n",
       "      <th>hepatic_failure</th>\n",
       "      <td>-0.014095</td>\n",
       "      <td>0.000121</td>\n",
       "      <td>-0.006601</td>\n",
       "      <td>0.048595</td>\n",
       "      <td>0.049088</td>\n",
       "      <td>-0.015183</td>\n",
       "      <td>-0.038660</td>\n",
       "      <td>-0.098116</td>\n",
       "      <td>0.013670</td>\n",
       "      <td>0.006520</td>\n",
       "      <td>...</td>\n",
       "      <td>1.000000</td>\n",
       "      <td>-0.004399</td>\n",
       "      <td>0.015516</td>\n",
       "      <td>-0.015347</td>\n",
       "      <td>-0.010708</td>\n",
       "      <td>-0.009341</td>\n",
       "      <td>-0.011334</td>\n",
       "      <td>0.017229</td>\n",
       "      <td>-0.012578</td>\n",
       "      <td>-0.003132</td>\n",
       "    </tr>\n",
       "    <tr>\n",
       "      <th>lymphoma</th>\n",
       "      <td>0.024645</td>\n",
       "      <td>-0.007998</td>\n",
       "      <td>-0.008195</td>\n",
       "      <td>0.007122</td>\n",
       "      <td>0.007713</td>\n",
       "      <td>-0.001306</td>\n",
       "      <td>0.004182</td>\n",
       "      <td>-0.029748</td>\n",
       "      <td>0.002475</td>\n",
       "      <td>0.005277</td>\n",
       "      <td>...</td>\n",
       "      <td>-0.004399</td>\n",
       "      <td>1.000000</td>\n",
       "      <td>0.011584</td>\n",
       "      <td>-0.002509</td>\n",
       "      <td>-0.004262</td>\n",
       "      <td>-0.006036</td>\n",
       "      <td>0.000364</td>\n",
       "      <td>-0.008919</td>\n",
       "      <td>-0.015392</td>\n",
       "      <td>0.014437</td>\n",
       "    </tr>\n",
       "    <tr>\n",
       "      <th>solid_tumor_with_metastasis</th>\n",
       "      <td>0.026471</td>\n",
       "      <td>-0.035563</td>\n",
       "      <td>-0.040420</td>\n",
       "      <td>0.008633</td>\n",
       "      <td>0.010933</td>\n",
       "      <td>0.013831</td>\n",
       "      <td>-0.010180</td>\n",
       "      <td>-0.007717</td>\n",
       "      <td>-0.004420</td>\n",
       "      <td>0.006733</td>\n",
       "      <td>...</td>\n",
       "      <td>0.015516</td>\n",
       "      <td>0.011584</td>\n",
       "      <td>1.000000</td>\n",
       "      <td>-0.001870</td>\n",
       "      <td>-0.006391</td>\n",
       "      <td>0.013483</td>\n",
       "      <td>0.007358</td>\n",
       "      <td>-0.005445</td>\n",
       "      <td>-0.002491</td>\n",
       "      <td>0.005581</td>\n",
       "    </tr>\n",
       "    <tr>\n",
       "      <th>icu_CSICU</th>\n",
       "      <td>0.039525</td>\n",
       "      <td>0.011211</td>\n",
       "      <td>0.002674</td>\n",
       "      <td>-0.029997</td>\n",
       "      <td>-0.030244</td>\n",
       "      <td>-0.021380</td>\n",
       "      <td>-0.001967</td>\n",
       "      <td>-0.020675</td>\n",
       "      <td>0.029472</td>\n",
       "      <td>0.003695</td>\n",
       "      <td>...</td>\n",
       "      <td>-0.015347</td>\n",
       "      <td>-0.002509</td>\n",
       "      <td>-0.001870</td>\n",
       "      <td>1.000000</td>\n",
       "      <td>-0.053452</td>\n",
       "      <td>-0.059658</td>\n",
       "      <td>-0.052488</td>\n",
       "      <td>0.027580</td>\n",
       "      <td>-0.040323</td>\n",
       "      <td>0.032968</td>\n",
       "    </tr>\n",
       "    <tr>\n",
       "      <th>icu_Cardiac ICU</th>\n",
       "      <td>0.010429</td>\n",
       "      <td>-0.001481</td>\n",
       "      <td>-0.002762</td>\n",
       "      <td>0.022396</td>\n",
       "      <td>0.022798</td>\n",
       "      <td>0.014383</td>\n",
       "      <td>0.017654</td>\n",
       "      <td>0.010431</td>\n",
       "      <td>-0.001782</td>\n",
       "      <td>0.009882</td>\n",
       "      <td>...</td>\n",
       "      <td>-0.010708</td>\n",
       "      <td>-0.004262</td>\n",
       "      <td>-0.006391</td>\n",
       "      <td>-0.053452</td>\n",
       "      <td>1.000000</td>\n",
       "      <td>-0.077064</td>\n",
       "      <td>-0.067802</td>\n",
       "      <td>0.006189</td>\n",
       "      <td>0.043148</td>\n",
       "      <td>-0.028263</td>\n",
       "    </tr>\n",
       "    <tr>\n",
       "      <th>icu_Neuro ICU</th>\n",
       "      <td>-0.025909</td>\n",
       "      <td>-0.012738</td>\n",
       "      <td>-0.015622</td>\n",
       "      <td>-0.072711</td>\n",
       "      <td>-0.068402</td>\n",
       "      <td>0.024860</td>\n",
       "      <td>0.017544</td>\n",
       "      <td>0.034860</td>\n",
       "      <td>-0.064067</td>\n",
       "      <td>-0.018891</td>\n",
       "      <td>...</td>\n",
       "      <td>-0.009341</td>\n",
       "      <td>-0.006036</td>\n",
       "      <td>0.013483</td>\n",
       "      <td>-0.059658</td>\n",
       "      <td>-0.077064</td>\n",
       "      <td>1.000000</td>\n",
       "      <td>-0.075674</td>\n",
       "      <td>-0.014065</td>\n",
       "      <td>0.018689</td>\n",
       "      <td>-0.016477</td>\n",
       "    </tr>\n",
       "    <tr>\n",
       "      <th>icu_SICU</th>\n",
       "      <td>-0.009881</td>\n",
       "      <td>0.002476</td>\n",
       "      <td>-0.004515</td>\n",
       "      <td>-0.021179</td>\n",
       "      <td>-0.022142</td>\n",
       "      <td>-0.005377</td>\n",
       "      <td>-0.007274</td>\n",
       "      <td>-0.010944</td>\n",
       "      <td>0.015759</td>\n",
       "      <td>0.001616</td>\n",
       "      <td>...</td>\n",
       "      <td>-0.011334</td>\n",
       "      <td>0.000364</td>\n",
       "      <td>0.007358</td>\n",
       "      <td>-0.052488</td>\n",
       "      <td>-0.067802</td>\n",
       "      <td>-0.075674</td>\n",
       "      <td>1.000000</td>\n",
       "      <td>0.014928</td>\n",
       "      <td>0.051664</td>\n",
       "      <td>-0.016999</td>\n",
       "    </tr>\n",
       "    <tr>\n",
       "      <th>gen_M</th>\n",
       "      <td>-0.017330</td>\n",
       "      <td>0.187578</td>\n",
       "      <td>-0.043587</td>\n",
       "      <td>0.048695</td>\n",
       "      <td>0.049893</td>\n",
       "      <td>0.006114</td>\n",
       "      <td>0.020686</td>\n",
       "      <td>-0.092885</td>\n",
       "      <td>0.062641</td>\n",
       "      <td>0.070553</td>\n",
       "      <td>...</td>\n",
       "      <td>0.017229</td>\n",
       "      <td>-0.008919</td>\n",
       "      <td>-0.005445</td>\n",
       "      <td>0.027580</td>\n",
       "      <td>0.006189</td>\n",
       "      <td>-0.014065</td>\n",
       "      <td>0.014928</td>\n",
       "      <td>1.000000</td>\n",
       "      <td>-0.020811</td>\n",
       "      <td>0.010041</td>\n",
       "    </tr>\n",
       "    <tr>\n",
       "      <th>eth_African American</th>\n",
       "      <td>-0.082064</td>\n",
       "      <td>0.039248</td>\n",
       "      <td>0.035420</td>\n",
       "      <td>0.021573</td>\n",
       "      <td>0.019097</td>\n",
       "      <td>-0.011425</td>\n",
       "      <td>-0.023723</td>\n",
       "      <td>0.024113</td>\n",
       "      <td>0.007258</td>\n",
       "      <td>-0.002549</td>\n",
       "      <td>...</td>\n",
       "      <td>-0.012578</td>\n",
       "      <td>-0.015392</td>\n",
       "      <td>-0.002491</td>\n",
       "      <td>-0.040323</td>\n",
       "      <td>0.043148</td>\n",
       "      <td>0.018689</td>\n",
       "      <td>0.051664</td>\n",
       "      <td>-0.020811</td>\n",
       "      <td>1.000000</td>\n",
       "      <td>-0.648984</td>\n",
       "    </tr>\n",
       "    <tr>\n",
       "      <th>eth_Caucasian</th>\n",
       "      <td>0.093379</td>\n",
       "      <td>0.030562</td>\n",
       "      <td>0.002380</td>\n",
       "      <td>-0.013157</td>\n",
       "      <td>-0.009800</td>\n",
       "      <td>0.012033</td>\n",
       "      <td>0.033649</td>\n",
       "      <td>-0.012888</td>\n",
       "      <td>0.005741</td>\n",
       "      <td>0.012621</td>\n",
       "      <td>...</td>\n",
       "      <td>-0.003132</td>\n",
       "      <td>0.014437</td>\n",
       "      <td>0.005581</td>\n",
       "      <td>0.032968</td>\n",
       "      <td>-0.028263</td>\n",
       "      <td>-0.016477</td>\n",
       "      <td>-0.016999</td>\n",
       "      <td>0.010041</td>\n",
       "      <td>-0.648984</td>\n",
       "      <td>1.000000</td>\n",
       "    </tr>\n",
       "  </tbody>\n",
       "</table>\n",
       "<p>30 rows × 30 columns</p>\n",
       "</div>"
      ],
      "text/plain": [
       "                                  age    weight       bmi  d1_bun_max  \\\n",
       "age                          1.000000 -0.117666 -0.078853    0.235396   \n",
       "weight                      -0.117666  1.000000  0.872370    0.041530   \n",
       "bmi                         -0.078853  0.872370  1.000000    0.038102   \n",
       "d1_bun_max                   0.235396  0.041530  0.038102    1.000000   \n",
       "d1_bun_min                   0.256867  0.047191  0.044410    0.972855   \n",
       "d1_glucose_min               0.059781  0.121459  0.119244   -0.009227   \n",
       "d1_hco3_min                  0.097580  0.106315  0.105806   -0.182161   \n",
       "d1_platelets_min            -0.072788 -0.009842  0.024500   -0.097884   \n",
       "d1_potassium_max             0.062369  0.090864  0.076277    0.334244   \n",
       "d1_potassium_min             0.106501  0.103796  0.088041    0.251823   \n",
       "d1_sodium_min                0.035453 -0.016517 -0.008937   -0.022081   \n",
       "h1_glucose_max              -0.026316  0.041782  0.042581    0.004708   \n",
       "h1_glucose_min              -0.015449  0.048556  0.049426    0.009165   \n",
       "wbc_apache                  -0.003088  0.015456  0.021294    0.080297   \n",
       "d1_heartrate_max            -0.134646 -0.037228 -0.029211    0.012919   \n",
       "heart_rate_apache           -0.147121 -0.029808 -0.021194    0.003876   \n",
       "creatinine_apache            0.063310  0.071410  0.052484    0.643624   \n",
       "gcs_motor_apache             0.016116  0.018781  0.024254   -0.049526   \n",
       "ventilated_apache            0.044349  0.072873  0.074128    0.065001   \n",
       "aids                        -0.025201 -0.017433 -0.022380    0.009186   \n",
       "hepatic_failure             -0.014095  0.000121 -0.006601    0.048595   \n",
       "lymphoma                     0.024645 -0.007998 -0.008195    0.007122   \n",
       "solid_tumor_with_metastasis  0.026471 -0.035563 -0.040420    0.008633   \n",
       "icu_CSICU                    0.039525  0.011211  0.002674   -0.029997   \n",
       "icu_Cardiac ICU              0.010429 -0.001481 -0.002762    0.022396   \n",
       "icu_Neuro ICU               -0.025909 -0.012738 -0.015622   -0.072711   \n",
       "icu_SICU                    -0.009881  0.002476 -0.004515   -0.021179   \n",
       "gen_M                       -0.017330  0.187578 -0.043587    0.048695   \n",
       "eth_African American        -0.082064  0.039248  0.035420    0.021573   \n",
       "eth_Caucasian                0.093379  0.030562  0.002380   -0.013157   \n",
       "\n",
       "                             d1_bun_min  d1_glucose_min  d1_hco3_min  \\\n",
       "age                            0.256867        0.059781     0.097580   \n",
       "weight                         0.047191        0.121459     0.106315   \n",
       "bmi                            0.044410        0.119244     0.105806   \n",
       "d1_bun_max                     0.972855       -0.009227    -0.182161   \n",
       "d1_bun_min                     1.000000        0.010066    -0.130759   \n",
       "d1_glucose_min                 0.010066        1.000000     0.048815   \n",
       "d1_hco3_min                   -0.130759        0.048815     1.000000   \n",
       "d1_platelets_min              -0.088101        0.066892     0.087538   \n",
       "d1_potassium_max               0.292356       -0.008253    -0.194765   \n",
       "d1_potassium_min               0.285648        0.092558     0.026400   \n",
       "d1_sodium_min                  0.000231       -0.054928     0.112813   \n",
       "h1_glucose_max                -0.015437        0.242087    -0.114982   \n",
       "h1_glucose_min                -0.006233        0.275703    -0.090365   \n",
       "wbc_apache                     0.069817        0.057546    -0.151996   \n",
       "d1_heartrate_max              -0.003523        0.055915    -0.142751   \n",
       "heart_rate_apache             -0.009339        0.061500    -0.124537   \n",
       "creatinine_apache              0.609227       -0.064695    -0.173534   \n",
       "gcs_motor_apache              -0.032919        0.033463     0.104258   \n",
       "ventilated_apache              0.052713       -0.023911    -0.028665   \n",
       "aids                           0.007657       -0.006037    -0.009286   \n",
       "hepatic_failure                0.049088       -0.015183    -0.038660   \n",
       "lymphoma                       0.007713       -0.001306     0.004182   \n",
       "solid_tumor_with_metastasis    0.010933        0.013831    -0.010180   \n",
       "icu_CSICU                     -0.030244       -0.021380    -0.001967   \n",
       "icu_Cardiac ICU                0.022798        0.014383     0.017654   \n",
       "icu_Neuro ICU                 -0.068402        0.024860     0.017544   \n",
       "icu_SICU                      -0.022142       -0.005377    -0.007274   \n",
       "gen_M                          0.049893        0.006114     0.020686   \n",
       "eth_African American           0.019097       -0.011425    -0.023723   \n",
       "eth_Caucasian                 -0.009800        0.012033     0.033649   \n",
       "\n",
       "                             d1_platelets_min  d1_potassium_max  \\\n",
       "age                                 -0.072788          0.062369   \n",
       "weight                              -0.009842          0.090864   \n",
       "bmi                                  0.024500          0.076277   \n",
       "d1_bun_max                          -0.097884          0.334244   \n",
       "d1_bun_min                          -0.088101          0.292356   \n",
       "d1_glucose_min                       0.066892         -0.008253   \n",
       "d1_hco3_min                          0.087538         -0.194765   \n",
       "d1_platelets_min                     1.000000         -0.068194   \n",
       "d1_potassium_max                    -0.068194          1.000000   \n",
       "d1_potassium_min                     0.019255          0.661482   \n",
       "d1_sodium_min                       -0.056141         -0.150492   \n",
       "h1_glucose_max                       0.011340          0.044414   \n",
       "h1_glucose_min                       0.023894          0.029280   \n",
       "wbc_apache                           0.183547          0.111832   \n",
       "d1_heartrate_max                     0.019419          0.017829   \n",
       "heart_rate_apache                    0.034300         -0.000968   \n",
       "creatinine_apache                   -0.074532          0.307278   \n",
       "gcs_motor_apache                     0.051613         -0.058603   \n",
       "ventilated_apache                   -0.095874          0.150236   \n",
       "aids                                -0.014624         -0.000470   \n",
       "hepatic_failure                     -0.098116          0.013670   \n",
       "lymphoma                            -0.029748          0.002475   \n",
       "solid_tumor_with_metastasis         -0.007717         -0.004420   \n",
       "icu_CSICU                           -0.020675          0.029472   \n",
       "icu_Cardiac ICU                      0.010431         -0.001782   \n",
       "icu_Neuro ICU                        0.034860         -0.064067   \n",
       "icu_SICU                            -0.010944          0.015759   \n",
       "gen_M                               -0.092885          0.062641   \n",
       "eth_African American                 0.024113          0.007258   \n",
       "eth_Caucasian                       -0.012888          0.005741   \n",
       "\n",
       "                             d1_potassium_min  ...  hepatic_failure  lymphoma  \\\n",
       "age                                  0.106501  ...        -0.014095  0.024645   \n",
       "weight                               0.103796  ...         0.000121 -0.007998   \n",
       "bmi                                  0.088041  ...        -0.006601 -0.008195   \n",
       "d1_bun_max                           0.251823  ...         0.048595  0.007122   \n",
       "d1_bun_min                           0.285648  ...         0.049088  0.007713   \n",
       "d1_glucose_min                       0.092558  ...        -0.015183 -0.001306   \n",
       "d1_hco3_min                          0.026400  ...        -0.038660  0.004182   \n",
       "d1_platelets_min                     0.019255  ...        -0.098116 -0.029748   \n",
       "d1_potassium_max                     0.661482  ...         0.013670  0.002475   \n",
       "d1_potassium_min                     1.000000  ...         0.006520  0.005277   \n",
       "d1_sodium_min                       -0.054959  ...        -0.023121 -0.010747   \n",
       "h1_glucose_max                      -0.050617  ...        -0.018065 -0.007473   \n",
       "h1_glucose_min                      -0.038305  ...        -0.016940 -0.005365   \n",
       "wbc_apache                           0.023170  ...        -0.015144 -0.015083   \n",
       "d1_heartrate_max                    -0.066395  ...         0.015014  0.018956   \n",
       "heart_rate_apache                   -0.070286  ...         0.014028  0.011986   \n",
       "creatinine_apache                    0.202068  ...         0.019105 -0.001358   \n",
       "gcs_motor_apache                     0.070830  ...        -0.005495  0.010852   \n",
       "ventilated_apache                   -0.022471  ...        -0.004658 -0.006897   \n",
       "aids                                -0.003512  ...         0.002918  0.009750   \n",
       "hepatic_failure                      0.006520  ...         1.000000 -0.004399   \n",
       "lymphoma                             0.005277  ...        -0.004399  1.000000   \n",
       "solid_tumor_with_metastasis          0.006733  ...         0.015516  0.011584   \n",
       "icu_CSICU                            0.003695  ...        -0.015347 -0.002509   \n",
       "icu_Cardiac ICU                      0.009882  ...        -0.010708 -0.004262   \n",
       "icu_Neuro ICU                       -0.018891  ...        -0.009341 -0.006036   \n",
       "icu_SICU                             0.001616  ...        -0.011334  0.000364   \n",
       "gen_M                                0.070553  ...         0.017229 -0.008919   \n",
       "eth_African American                -0.002549  ...        -0.012578 -0.015392   \n",
       "eth_Caucasian                        0.012621  ...        -0.003132  0.014437   \n",
       "\n",
       "                             solid_tumor_with_metastasis  icu_CSICU  \\\n",
       "age                                             0.026471   0.039525   \n",
       "weight                                         -0.035563   0.011211   \n",
       "bmi                                            -0.040420   0.002674   \n",
       "d1_bun_max                                      0.008633  -0.029997   \n",
       "d1_bun_min                                      0.010933  -0.030244   \n",
       "d1_glucose_min                                  0.013831  -0.021380   \n",
       "d1_hco3_min                                    -0.010180  -0.001967   \n",
       "d1_platelets_min                               -0.007717  -0.020675   \n",
       "d1_potassium_max                               -0.004420   0.029472   \n",
       "d1_potassium_min                                0.006733   0.003695   \n",
       "d1_sodium_min                                  -0.030953   0.028121   \n",
       "h1_glucose_max                                 -0.016475   0.001620   \n",
       "h1_glucose_min                                 -0.012627  -0.015614   \n",
       "wbc_apache                                     -0.000101   0.013112   \n",
       "d1_heartrate_max                                0.039072  -0.038841   \n",
       "heart_rate_apache                               0.036172  -0.043959   \n",
       "creatinine_apache                              -0.012423  -0.023756   \n",
       "gcs_motor_apache                                0.016690  -0.028985   \n",
       "ventilated_apache                              -0.015323   0.044326   \n",
       "aids                                            0.000755  -0.005872   \n",
       "hepatic_failure                                 0.015516  -0.015347   \n",
       "lymphoma                                        0.011584  -0.002509   \n",
       "solid_tumor_with_metastasis                     1.000000  -0.001870   \n",
       "icu_CSICU                                      -0.001870   1.000000   \n",
       "icu_Cardiac ICU                                -0.006391  -0.053452   \n",
       "icu_Neuro ICU                                   0.013483  -0.059658   \n",
       "icu_SICU                                        0.007358  -0.052488   \n",
       "gen_M                                          -0.005445   0.027580   \n",
       "eth_African American                           -0.002491  -0.040323   \n",
       "eth_Caucasian                                   0.005581   0.032968   \n",
       "\n",
       "                             icu_Cardiac ICU  icu_Neuro ICU  icu_SICU  \\\n",
       "age                                 0.010429      -0.025909 -0.009881   \n",
       "weight                             -0.001481      -0.012738  0.002476   \n",
       "bmi                                -0.002762      -0.015622 -0.004515   \n",
       "d1_bun_max                          0.022396      -0.072711 -0.021179   \n",
       "d1_bun_min                          0.022798      -0.068402 -0.022142   \n",
       "d1_glucose_min                      0.014383       0.024860 -0.005377   \n",
       "d1_hco3_min                         0.017654       0.017544 -0.007274   \n",
       "d1_platelets_min                    0.010431       0.034860 -0.010944   \n",
       "d1_potassium_max                   -0.001782      -0.064067  0.015759   \n",
       "d1_potassium_min                    0.009882      -0.018891  0.001616   \n",
       "d1_sodium_min                      -0.003276       0.022251 -0.023633   \n",
       "h1_glucose_max                      0.003824      -0.016579 -0.008878   \n",
       "h1_glucose_min                      0.009285      -0.009796 -0.006113   \n",
       "wbc_apache                         -0.009269      -0.024275  0.019285   \n",
       "d1_heartrate_max                    0.009572      -0.023635  0.008804   \n",
       "heart_rate_apache                  -0.001448      -0.026907  0.018182   \n",
       "creatinine_apache                   0.015198      -0.055748 -0.005924   \n",
       "gcs_motor_apache                    0.004222      -0.021928  0.004199   \n",
       "ventilated_apache                  -0.027342      -0.038419  0.016769   \n",
       "aids                               -0.001713      -0.005794 -0.004465   \n",
       "hepatic_failure                    -0.010708      -0.009341 -0.011334   \n",
       "lymphoma                           -0.004262      -0.006036  0.000364   \n",
       "solid_tumor_with_metastasis        -0.006391       0.013483  0.007358   \n",
       "icu_CSICU                          -0.053452      -0.059658 -0.052488   \n",
       "icu_Cardiac ICU                     1.000000      -0.077064 -0.067802   \n",
       "icu_Neuro ICU                      -0.077064       1.000000 -0.075674   \n",
       "icu_SICU                           -0.067802      -0.075674  1.000000   \n",
       "gen_M                               0.006189      -0.014065  0.014928   \n",
       "eth_African American                0.043148       0.018689  0.051664   \n",
       "eth_Caucasian                      -0.028263      -0.016477 -0.016999   \n",
       "\n",
       "                                gen_M  eth_African American  eth_Caucasian  \n",
       "age                         -0.017330             -0.082064       0.093379  \n",
       "weight                       0.187578              0.039248       0.030562  \n",
       "bmi                         -0.043587              0.035420       0.002380  \n",
       "d1_bun_max                   0.048695              0.021573      -0.013157  \n",
       "d1_bun_min                   0.049893              0.019097      -0.009800  \n",
       "d1_glucose_min               0.006114             -0.011425       0.012033  \n",
       "d1_hco3_min                  0.020686             -0.023723       0.033649  \n",
       "d1_platelets_min            -0.092885              0.024113      -0.012888  \n",
       "d1_potassium_max             0.062641              0.007258       0.005741  \n",
       "d1_potassium_min             0.070553             -0.002549       0.012621  \n",
       "d1_sodium_min               -0.017695              0.015800      -0.008037  \n",
       "h1_glucose_max              -0.002902              0.010014      -0.012446  \n",
       "h1_glucose_min              -0.002876              0.010871      -0.012606  \n",
       "wbc_apache                  -0.010258             -0.020617       0.019765  \n",
       "d1_heartrate_max            -0.033618              0.016920      -0.008340  \n",
       "heart_rate_apache           -0.035612              0.023468      -0.016843  \n",
       "creatinine_apache            0.064915              0.101917      -0.089600  \n",
       "gcs_motor_apache            -0.012553             -0.018480       0.018419  \n",
       "ventilated_apache            0.019044              0.003519       0.012757  \n",
       "aids                         0.013666              0.020148      -0.012218  \n",
       "hepatic_failure              0.017229             -0.012578      -0.003132  \n",
       "lymphoma                    -0.008919             -0.015392       0.014437  \n",
       "solid_tumor_with_metastasis -0.005445             -0.002491       0.005581  \n",
       "icu_CSICU                    0.027580             -0.040323       0.032968  \n",
       "icu_Cardiac ICU              0.006189              0.043148      -0.028263  \n",
       "icu_Neuro ICU               -0.014065              0.018689      -0.016477  \n",
       "icu_SICU                     0.014928              0.051664      -0.016999  \n",
       "gen_M                        1.000000             -0.020811       0.010041  \n",
       "eth_African American        -0.020811              1.000000      -0.648984  \n",
       "eth_Caucasian                0.010041             -0.648984       1.000000  \n",
       "\n",
       "[30 rows x 30 columns]"
      ]
     },
     "execution_count": 10,
     "metadata": {},
     "output_type": "execute_result"
    }
   ],
   "source": [
    "# Assign columns a variable\n",
    "corr_cols = train_X.columns\n",
    "\n",
    "# Pass columns back through train_X index\n",
    "corr = train_X[corr_cols].corr()\n",
    "corr"
   ]
  },
  {
   "cell_type": "markdown",
   "id": "b09be867",
   "metadata": {},
   "source": [
    "**Pearson correlation heatmap**"
   ]
  },
  {
   "cell_type": "code",
   "execution_count": 11,
   "id": "1a9cf516",
   "metadata": {},
   "outputs": [
    {
     "data": {
      "image/png": "[encoded data removed]",
      "text/plain": [
       "<Figure size 1584x1440 with 2 Axes>"
      ]
     },
     "metadata": {
      "needs_background": "light"
     },
     "output_type": "display_data"
    }
   ],
   "source": [
    "plt.figure(figsize=(22,20))\n",
    "sns.heatmap(corr, annot=False, cmap=plt.cm.Reds)\n",
    "plt.show()"
   ]
  },
  {
   "cell_type": "markdown",
   "id": "ee2b9ced",
   "metadata": {},
   "source": [
    "**Find one feature of each pair of highly correlated features**"
   ]
  },
  {
   "cell_type": "code",
   "execution_count": 12,
   "id": "ec0dfcfb",
   "metadata": {},
   "outputs": [],
   "source": [
    "def correlation(data, threshold):\n",
    "    col_corr = set() # Set data struct to hold names of correlated cols\n",
    "    for i in range(len(corr.columns)):\n",
    "        for j in range(i):\n",
    "            if abs(corr.iloc[i, j]) > threshold:\n",
    "                colname = corr.columns[i]\n",
    "                col_corr.add(colname)\n",
    "    return col_corr"
   ]
  },
  {
   "cell_type": "markdown",
   "id": "658e65dc",
   "metadata": {},
   "source": [
    "**Pass through threshold and dataset**"
   ]
  },
  {
   "cell_type": "code",
   "execution_count": 13,
   "id": "24b24151",
   "metadata": {},
   "outputs": [
    {
     "data": {
      "text/plain": [
       "4"
      ]
     },
     "execution_count": 13,
     "metadata": {},
     "output_type": "execute_result"
    }
   ],
   "source": [
    "corr_features = correlation(train_X, 0.7)\n",
    "\n",
    "# View number of highly correlated features\n",
    "len(set(corr_features))"
   ]
  },
  {
   "cell_type": "markdown",
   "id": "74d0ea59",
   "metadata": {},
   "source": [
    "**View features**"
   ]
  },
  {
   "cell_type": "code",
   "execution_count": 14,
   "id": "ff91ecf7",
   "metadata": {},
   "outputs": [
    {
     "data": {
      "text/plain": [
       "{'bmi', 'd1_bun_min', 'h1_glucose_min', 'heart_rate_apache'}"
      ]
     },
     "execution_count": 14,
     "metadata": {},
     "output_type": "execute_result"
    }
   ],
   "source": [
    "corr_features"
   ]
  },
  {
   "cell_type": "markdown",
   "id": "47ef25bf",
   "metadata": {},
   "source": [
    "**Drop highly correlated features from train, validation and test sets**"
   ]
  },
  {
   "cell_type": "code",
   "execution_count": 15,
   "id": "0ac51891",
   "metadata": {},
   "outputs": [
    {
     "name": "stdout",
     "output_type": "stream",
     "text": [
      "Train set shape before dropping:  (48043, 30)\n",
      "Validation set shape before dropping:  (12011, 30)\n",
      "Test set shape before dropping:  (15014, 30)\n",
      "\n",
      "-----------------------------------------\n",
      "\n",
      "Train set shape after dropping:  (48043, 26)\n",
      "Validation set shape after dropping:  (12011, 26)\n",
      "Test set shape after dropping:  (15014, 26)\n"
     ]
    },
    {
     "name": "stderr",
     "output_type": "stream",
     "text": [
      "C:\\Users\\Matt-\\anaconda3\\lib\\site-packages\\pandas\\core\\frame.py:4308: SettingWithCopyWarning: \n",
      "A value is trying to be set on a copy of a slice from a DataFrame\n",
      "\n",
      "See the caveats in the documentation: https://pandas.pydata.org/pandas-docs/stable/user_guide/indexing.html#returning-a-view-versus-a-copy\n",
      "  return super().drop(\n"
     ]
    }
   ],
   "source": [
    "# For testing - check shape before row omission\n",
    "print('Train set shape before dropping: ', train_X.shape)\n",
    "print('Validation set shape before dropping: ', val_X.shape)\n",
    "print('Test set shape before dropping: ', test_X.shape)\n",
    "\n",
    "# Drop features\n",
    "train_X.drop(corr_features, axis=1, inplace=True)\n",
    "val_X.drop(corr_features, axis=1, inplace=True)\n",
    "test_X.drop(corr_features, axis=1, inplace=True)\n",
    "\n",
    "print(\"\\n-----------------------------------------\\n\")\n",
    "\n",
    "# For testing - check shape after row omission\n",
    "print('Train set shape after dropping: ', train_X.shape)\n",
    "print('Validation set shape after dropping: ', val_X.shape)\n",
    "print('Test set shape after dropping: ', test_X.shape)"
   ]
  },
  {
   "cell_type": "markdown",
   "id": "fe6cc7a2",
   "metadata": {},
   "source": [
    "## Class imbalance (downsampling)"
   ]
  },
  {
   "cell_type": "markdown",
   "id": "022fd103",
   "metadata": {},
   "source": [
    "Downsampling creating entries artificially, potentially skewing how the dataset reflects real world data."
   ]
  },
  {
   "cell_type": "markdown",
   "id": "160bb286",
   "metadata": {},
   "source": [
    "**Investigate current imbalance of target variable**"
   ]
  },
  {
   "cell_type": "code",
   "execution_count": 16,
   "id": "ed3e9d09",
   "metadata": {},
   "outputs": [
    {
     "data": {
      "image/png": "[encoded data removed]",
      "text/plain": [
       "<Figure size 432x288 with 1 Axes>"
      ]
     },
     "metadata": {
      "needs_background": "light"
     },
     "output_type": "display_data"
    }
   ],
   "source": [
    "# Count plot visualisation\n",
    "df=train_y.to_frame()\n",
    "sns.countplot(x='diabetes_mellitus',data=df,).set_title(\"Train\")\n",
    "plt.setp(axes, yticks=[])\n",
    "plt.tight_layout()"
   ]
  },
  {
   "cell_type": "code",
   "execution_count": 17,
   "id": "a25fa1b4",
   "metadata": {},
   "outputs": [
    {
     "data": {
      "text/plain": [
       "0    31749\n",
       "1    16294\n",
       "Name: diabetes_mellitus, dtype: int64"
      ]
     },
     "execution_count": 17,
     "metadata": {},
     "output_type": "execute_result"
    }
   ],
   "source": [
    "# Values of minority and majority classes\n",
    "train_y.value_counts()"
   ]
  },
  {
   "cell_type": "markdown",
   "id": "fd209475",
   "metadata": {},
   "source": [
    "**Downsample majority class (without diabetes)**"
   ]
  },
  {
   "cell_type": "code",
   "execution_count": 18,
   "id": "e6c94075",
   "metadata": {},
   "outputs": [
    {
     "name": "stdout",
     "output_type": "stream",
     "text": [
      "                age        weight    d1_bun_max  d1_glucose_min   d1_hco3_min  \\\n",
      "count  32588.000000  32588.000000  32588.000000    32588.000000  32588.000000   \n",
      "mean      63.354548     85.843832     25.927977      117.013011     23.272462   \n",
      "std       15.623353     24.929860     19.210857       39.749657      4.657895   \n",
      "min        0.000000     38.600000      4.000000       33.000000      7.000000   \n",
      "25%       55.000000     68.500000     14.000000       92.000000     21.000000   \n",
      "50%       65.000000     81.600000     20.000000      109.000000     23.000000   \n",
      "75%       75.000000     99.000000     31.000000      134.000000     26.000000   \n",
      "max       89.000000    186.000000    126.000000      288.000000     39.000000   \n",
      "\n",
      "       d1_platelets_min  d1_potassium_max  d1_potassium_min  d1_sodium_min  \\\n",
      "count      32588.000000      32588.000000      32588.000000   32588.000000   \n",
      "mean         192.097605          4.267875          3.949313     137.681505   \n",
      "std           77.461254          0.636382          0.557848       4.565909   \n",
      "min           18.550000          2.800000          2.400000     117.000000   \n",
      "25%          145.000000          3.900000          3.600000     136.000000   \n",
      "50%          186.000000          4.200000          3.900000     138.000000   \n",
      "75%          227.000000          4.500000          4.300000     140.000000   \n",
      "max          557.450000          7.000000          5.800000     153.000000   \n",
      "\n",
      "       h1_glucose_max  ...      lymphoma  solid_tumor_with_metastasis  \\\n",
      "count    32588.000000  ...  32588.000000                 32588.000000   \n",
      "mean       155.150608  ...      0.003928                     0.020775   \n",
      "std         48.445246  ...      0.062550                     0.142631   \n",
      "min         59.000000  ...      0.000000                     0.000000   \n",
      "25%        147.000000  ...      0.000000                     0.000000   \n",
      "50%        147.000000  ...      0.000000                     0.000000   \n",
      "75%        147.000000  ...      0.000000                     0.000000   \n",
      "max        546.000000  ...      1.000000                     1.000000   \n",
      "\n",
      "          icu_CSICU  icu_Cardiac ICU  icu_Neuro ICU      icu_SICU  \\\n",
      "count  32588.000000     32588.000000   32588.000000  32588.000000   \n",
      "mean       0.041825         0.064963       0.074475      0.059899   \n",
      "std        0.200193         0.246464       0.262547      0.237304   \n",
      "min        0.000000         0.000000       0.000000      0.000000   \n",
      "25%        0.000000         0.000000       0.000000      0.000000   \n",
      "50%        0.000000         0.000000       0.000000      0.000000   \n",
      "75%        0.000000         0.000000       0.000000      0.000000   \n",
      "max        1.000000         1.000000       1.000000      1.000000   \n",
      "\n",
      "              gen_M  eth_African American  eth_Caucasian  diabetes_mellitus  \n",
      "count  32588.000000          32588.000000   32588.000000       32588.000000  \n",
      "mean       0.540905              0.110286       0.767000           0.500000  \n",
      "std        0.498332              0.313251       0.422749           0.500008  \n",
      "min        0.000000              0.000000       0.000000           0.000000  \n",
      "25%        0.000000              0.000000       1.000000           0.000000  \n",
      "50%        1.000000              0.000000       1.000000           0.500000  \n",
      "75%        1.000000              0.000000       1.000000           1.000000  \n",
      "max        1.000000              1.000000       1.000000           1.000000  \n",
      "\n",
      "[8 rows x 27 columns]\n"
     ]
    },
    {
     "data": {
      "text/plain": [
       "0    16294\n",
       "1    16294\n",
       "Name: diabetes_mellitus, dtype: int64"
      ]
     },
     "execution_count": 18,
     "metadata": {},
     "output_type": "execute_result"
    }
   ],
   "source": [
    "from sklearn.utils import resample\n",
    "\n",
    "# Concatenate training data back together\n",
    "resampling = train_X.copy()\n",
    "resampling['diabetes_mellitus'] = train_y.values\n",
    "\n",
    "# Seperate and assign minority and majority classes\n",
    "maj_class = resampling[resampling['diabetes_mellitus']==0]\n",
    "min_class = resampling[resampling['diabetes_mellitus']==1]\n",
    "\n",
    "# Upsample minority class\n",
    "maj_downsampled = resample(maj_class,\n",
    "                        replace=True,\n",
    "                        n_samples=16294, # matches minority class\n",
    "                        random_state=1) # 'reproducible results'.. but why?\n",
    "\n",
    "# Combine majority class with upsampled min class\n",
    "downsampled = pd.concat([min_class, maj_downsampled])\n",
    "\n",
    "# Test data set\n",
    "print(downsampled.describe())\n",
    "\n",
    "# Display new class counts - are they the same for each class?\n",
    "downsampled['diabetes_mellitus'].value_counts()"
   ]
  },
  {
   "cell_type": "markdown",
   "id": "f147a7eb",
   "metadata": {},
   "source": [
    "**Reassign downsampled dataset to train data**"
   ]
  },
  {
   "cell_type": "code",
   "execution_count": 19,
   "id": "eea805e0",
   "metadata": {},
   "outputs": [
    {
     "name": "stdout",
     "output_type": "stream",
     "text": [
      "(32588, 26)\n",
      "(32588,)\n"
     ]
    }
   ],
   "source": [
    "# Remove target variable \n",
    "downsamp_cols = downsampled.columns[:-1]\n",
    "\n",
    "# Input variables reassigned\n",
    "train_X = downsampled[downsamp_cols]\n",
    "print(train_X.shape)\n",
    "\n",
    "# Target variable reasssigned\n",
    "train_y = downsampled.diabetes_mellitus\n",
    "print(train_y.shape)"
   ]
  },
  {
   "cell_type": "markdown",
   "id": "dab5b976",
   "metadata": {},
   "source": [
    "**Visualise balanced classes**"
   ]
  },
  {
   "cell_type": "code",
   "execution_count": 20,
   "id": "28f92f2f",
   "metadata": {},
   "outputs": [
    {
     "data": {
      "image/png": "[encoded data removed]",
      "text/plain": [
       "<Figure size 432x288 with 1 Axes>"
      ]
     },
     "metadata": {
      "needs_background": "light"
     },
     "output_type": "display_data"
    }
   ],
   "source": [
    "df=train_y.to_frame()\n",
    "sns.countplot(x='diabetes_mellitus',data=df,).set_title(\"Train\")\n",
    "plt.setp(axes, yticks=[])\n",
    "plt.tight_layout()"
   ]
  },
  {
   "cell_type": "code",
   "execution_count": 21,
   "id": "74d8a997",
   "metadata": {},
   "outputs": [
    {
     "data": {
      "text/plain": [
       "Index(['age', 'weight', 'd1_bun_max', 'd1_glucose_min', 'd1_hco3_min',\n",
       "       'd1_platelets_min', 'd1_potassium_max', 'd1_potassium_min',\n",
       "       'd1_sodium_min', 'h1_glucose_max', 'wbc_apache', 'd1_heartrate_max',\n",
       "       'creatinine_apache', 'gcs_motor_apache', 'ventilated_apache', 'aids',\n",
       "       'hepatic_failure', 'lymphoma', 'solid_tumor_with_metastasis',\n",
       "       'icu_CSICU', 'icu_Cardiac ICU', 'icu_Neuro ICU', 'icu_SICU', 'gen_M',\n",
       "       'eth_African American', 'eth_Caucasian'],\n",
       "      dtype='object')"
      ]
     },
     "execution_count": 21,
     "metadata": {},
     "output_type": "execute_result"
    }
   ],
   "source": [
    "train_X.columns"
   ]
  },
  {
   "cell_type": "markdown",
   "id": "2dedc0a8",
   "metadata": {},
   "source": [
    "## Model training and evaluation"
   ]
  },
  {
   "cell_type": "markdown",
   "id": "19da4370",
   "metadata": {},
   "source": [
    "**Relevant modules and libraries**"
   ]
  },
  {
   "cell_type": "code",
   "execution_count": 30,
   "id": "c1ec8c4b",
   "metadata": {},
   "outputs": [],
   "source": [
    "# Scalers and normalizers\n",
    "from sklearn.preprocessing import StandardScaler\n",
    "\n",
    "# Confusion matrix modules\n",
    "from sklearn.metrics import confusion_matrix\n",
    "from sklearn.metrics import plot_confusion_matrix\n",
    "\n",
    "# Accuracy score\n",
    "from sklearn.metrics import accuracy_score\n",
    "\n",
    "# GridSearch\n",
    "from sklearn.model_selection import GridSearchCV\n",
    "\n",
    "# Pipeline\n",
    "from sklearn.pipeline import Pipeline\n",
    "\n",
    "# Evaluation\n",
    "from sklearn.metrics import classification_report\n",
    "from sklearn.metrics import plot_precision_recall_curve, plot_roc_curve\n",
    "from sklearn.metrics import accuracy_score, balanced_accuracy_score, f1_score"
   ]
  },
  {
   "cell_type": "markdown",
   "id": "79d28713",
   "metadata": {},
   "source": [
    "### Multi layer perceptron (MLP) classifier"
   ]
  },
  {
   "cell_type": "markdown",
   "id": "cfa1fa95",
   "metadata": {},
   "source": [
    "**Basic MLP classifier with minimal tuning**"
   ]
  },
  {
   "cell_type": "code",
   "execution_count": 22,
   "id": "29f6a1dd",
   "metadata": {},
   "outputs": [
    {
     "name": "stdout",
     "output_type": "stream",
     "text": [
      "[0 0 1 ... 1 0 0]\n"
     ]
    },
    {
     "data": {
      "text/plain": [
       "0.7156772958121722"
      ]
     },
     "execution_count": 22,
     "metadata": {},
     "output_type": "execute_result"
    }
   ],
   "source": [
    "from sklearn.neural_network import MLPClassifier\n",
    "\n",
    "mlp = MLPClassifier(random_state=1, max_iter=300)\n",
    "mlp.fit(train_X, train_y)\n",
    "mlp.predict_proba(val_X[:1])\n",
    "pred_y = mlp.predict(val_X)\n",
    "print(pred_y)\n",
    "mlp.score(val_X, val_y)"
   ]
  },
  {
   "cell_type": "markdown",
   "id": "381d2475",
   "metadata": {},
   "source": [
    "**Confusion matrix of basic MLP**"
   ]
  },
  {
   "cell_type": "code",
   "execution_count": 25,
   "id": "04ef1afb",
   "metadata": {},
   "outputs": [
    {
     "data": {
      "text/plain": [
       "<sklearn.metrics._plot.confusion_matrix.ConfusionMatrixDisplay at 0x202d1e6a430>"
      ]
     },
     "execution_count": 25,
     "metadata": {},
     "output_type": "execute_result"
    },
    {
     "data": {
      "image/png": "[encoded data removed]",
      "text/plain": [
       "<Figure size 432x288 with 2 Axes>"
      ]
     },
     "metadata": {
      "needs_background": "light"
     },
     "output_type": "display_data"
    }
   ],
   "source": [
    "# Instantiate confusion matrix\n",
    "cm = confusion_matrix(val_y, pred_y)\n",
    "\n",
    "# Plot confusion matrix\n",
    "plot_confusion_matrix(mlp, val_X, val_y)"
   ]
  },
  {
   "cell_type": "markdown",
   "id": "a6065cc4",
   "metadata": {},
   "source": [
    "**Ignore warning messages prior to cross validation**"
   ]
  },
  {
   "cell_type": "code",
   "execution_count": 33,
   "id": "9ceddeff",
   "metadata": {},
   "outputs": [],
   "source": [
    "import warnings\n",
    "warnings.filterwarnings('ignore') "
   ]
  },
  {
   "cell_type": "markdown",
   "id": "91ff68db",
   "metadata": {},
   "source": [
    "**GridSearchCV to test hyperparameters of the MLP classifier - 30 mins to run**"
   ]
  },
  {
   "cell_type": "code",
   "execution_count": 28,
   "id": "61a0fac6",
   "metadata": {},
   "outputs": [
    {
     "name": "stdout",
     "output_type": "stream",
     "text": [
      "Best parameters found: {'activation': 'relu', 'alpha': 0.05, 'hidden_layer_sizes': (50, 50, 50), 'learning_rate': 'adaptive', 'solver': 'sgd'}\n",
      "0.670 (+/-0.005) for {'activation': 'tanh', 'alpha': 0.0001, 'hidden_layer_sizes': (50, 50, 50), 'learning_rate': 'constant', 'solver': 'sgd'}\n",
      "0.678 (+/-0.006) for {'activation': 'tanh', 'alpha': 0.0001, 'hidden_layer_sizes': (50, 50, 50), 'learning_rate': 'constant', 'solver': 'adam'}\n",
      "0.677 (+/-0.003) for {'activation': 'tanh', 'alpha': 0.0001, 'hidden_layer_sizes': (50, 50, 50), 'learning_rate': 'adaptive', 'solver': 'sgd'}\n",
      "0.678 (+/-0.006) for {'activation': 'tanh', 'alpha': 0.0001, 'hidden_layer_sizes': (50, 50, 50), 'learning_rate': 'adaptive', 'solver': 'adam'}\n",
      "0.671 (+/-0.011) for {'activation': 'tanh', 'alpha': 0.0001, 'hidden_layer_sizes': (50, 100, 50), 'learning_rate': 'constant', 'solver': 'sgd'}\n",
      "0.679 (+/-0.008) for {'activation': 'tanh', 'alpha': 0.0001, 'hidden_layer_sizes': (50, 100, 50), 'learning_rate': 'constant', 'solver': 'adam'}\n",
      "0.675 (+/-0.007) for {'activation': 'tanh', 'alpha': 0.0001, 'hidden_layer_sizes': (50, 100, 50), 'learning_rate': 'adaptive', 'solver': 'sgd'}\n",
      "0.679 (+/-0.008) for {'activation': 'tanh', 'alpha': 0.0001, 'hidden_layer_sizes': (50, 100, 50), 'learning_rate': 'adaptive', 'solver': 'adam'}\n",
      "0.668 (+/-0.009) for {'activation': 'tanh', 'alpha': 0.0001, 'hidden_layer_sizes': (100,), 'learning_rate': 'constant', 'solver': 'sgd'}\n",
      "0.677 (+/-0.009) for {'activation': 'tanh', 'alpha': 0.0001, 'hidden_layer_sizes': (100,), 'learning_rate': 'constant', 'solver': 'adam'}\n",
      "0.679 (+/-0.008) for {'activation': 'tanh', 'alpha': 0.0001, 'hidden_layer_sizes': (100,), 'learning_rate': 'adaptive', 'solver': 'sgd'}\n",
      "0.677 (+/-0.009) for {'activation': 'tanh', 'alpha': 0.0001, 'hidden_layer_sizes': (100,), 'learning_rate': 'adaptive', 'solver': 'adam'}\n",
      "0.662 (+/-0.006) for {'activation': 'tanh', 'alpha': 0.05, 'hidden_layer_sizes': (50, 50, 50), 'learning_rate': 'constant', 'solver': 'sgd'}\n",
      "0.681 (+/-0.007) for {'activation': 'tanh', 'alpha': 0.05, 'hidden_layer_sizes': (50, 50, 50), 'learning_rate': 'constant', 'solver': 'adam'}\n",
      "0.670 (+/-0.011) for {'activation': 'tanh', 'alpha': 0.05, 'hidden_layer_sizes': (50, 50, 50), 'learning_rate': 'adaptive', 'solver': 'sgd'}\n",
      "0.681 (+/-0.007) for {'activation': 'tanh', 'alpha': 0.05, 'hidden_layer_sizes': (50, 50, 50), 'learning_rate': 'adaptive', 'solver': 'adam'}\n",
      "0.669 (+/-0.013) for {'activation': 'tanh', 'alpha': 0.05, 'hidden_layer_sizes': (50, 100, 50), 'learning_rate': 'constant', 'solver': 'sgd'}\n",
      "0.677 (+/-0.003) for {'activation': 'tanh', 'alpha': 0.05, 'hidden_layer_sizes': (50, 100, 50), 'learning_rate': 'constant', 'solver': 'adam'}\n",
      "0.678 (+/-0.009) for {'activation': 'tanh', 'alpha': 0.05, 'hidden_layer_sizes': (50, 100, 50), 'learning_rate': 'adaptive', 'solver': 'sgd'}\n",
      "0.677 (+/-0.003) for {'activation': 'tanh', 'alpha': 0.05, 'hidden_layer_sizes': (50, 100, 50), 'learning_rate': 'adaptive', 'solver': 'adam'}\n",
      "0.666 (+/-0.005) for {'activation': 'tanh', 'alpha': 0.05, 'hidden_layer_sizes': (100,), 'learning_rate': 'constant', 'solver': 'sgd'}\n",
      "0.680 (+/-0.008) for {'activation': 'tanh', 'alpha': 0.05, 'hidden_layer_sizes': (100,), 'learning_rate': 'constant', 'solver': 'adam'}\n",
      "0.679 (+/-0.009) for {'activation': 'tanh', 'alpha': 0.05, 'hidden_layer_sizes': (100,), 'learning_rate': 'adaptive', 'solver': 'sgd'}\n",
      "0.680 (+/-0.008) for {'activation': 'tanh', 'alpha': 0.05, 'hidden_layer_sizes': (100,), 'learning_rate': 'adaptive', 'solver': 'adam'}\n",
      "0.682 (+/-0.014) for {'activation': 'relu', 'alpha': 0.0001, 'hidden_layer_sizes': (50, 50, 50), 'learning_rate': 'constant', 'solver': 'sgd'}\n",
      "0.678 (+/-0.005) for {'activation': 'relu', 'alpha': 0.0001, 'hidden_layer_sizes': (50, 50, 50), 'learning_rate': 'constant', 'solver': 'adam'}\n",
      "0.686 (+/-0.007) for {'activation': 'relu', 'alpha': 0.0001, 'hidden_layer_sizes': (50, 50, 50), 'learning_rate': 'adaptive', 'solver': 'sgd'}\n",
      "0.678 (+/-0.005) for {'activation': 'relu', 'alpha': 0.0001, 'hidden_layer_sizes': (50, 50, 50), 'learning_rate': 'adaptive', 'solver': 'adam'}\n",
      "0.683 (+/-0.007) for {'activation': 'relu', 'alpha': 0.0001, 'hidden_layer_sizes': (50, 100, 50), 'learning_rate': 'constant', 'solver': 'sgd'}\n",
      "0.663 (+/-0.011) for {'activation': 'relu', 'alpha': 0.0001, 'hidden_layer_sizes': (50, 100, 50), 'learning_rate': 'constant', 'solver': 'adam'}\n",
      "0.684 (+/-0.009) for {'activation': 'relu', 'alpha': 0.0001, 'hidden_layer_sizes': (50, 100, 50), 'learning_rate': 'adaptive', 'solver': 'sgd'}\n",
      "0.663 (+/-0.011) for {'activation': 'relu', 'alpha': 0.0001, 'hidden_layer_sizes': (50, 100, 50), 'learning_rate': 'adaptive', 'solver': 'adam'}\n",
      "0.682 (+/-0.011) for {'activation': 'relu', 'alpha': 0.0001, 'hidden_layer_sizes': (100,), 'learning_rate': 'constant', 'solver': 'sgd'}\n",
      "0.631 (+/-0.059) for {'activation': 'relu', 'alpha': 0.0001, 'hidden_layer_sizes': (100,), 'learning_rate': 'constant', 'solver': 'adam'}\n",
      "0.684 (+/-0.007) for {'activation': 'relu', 'alpha': 0.0001, 'hidden_layer_sizes': (100,), 'learning_rate': 'adaptive', 'solver': 'sgd'}\n",
      "0.631 (+/-0.059) for {'activation': 'relu', 'alpha': 0.0001, 'hidden_layer_sizes': (100,), 'learning_rate': 'adaptive', 'solver': 'adam'}\n",
      "0.681 (+/-0.009) for {'activation': 'relu', 'alpha': 0.05, 'hidden_layer_sizes': (50, 50, 50), 'learning_rate': 'constant', 'solver': 'sgd'}\n",
      "0.683 (+/-0.003) for {'activation': 'relu', 'alpha': 0.05, 'hidden_layer_sizes': (50, 50, 50), 'learning_rate': 'constant', 'solver': 'adam'}\n",
      "0.686 (+/-0.012) for {'activation': 'relu', 'alpha': 0.05, 'hidden_layer_sizes': (50, 50, 50), 'learning_rate': 'adaptive', 'solver': 'sgd'}\n",
      "0.683 (+/-0.003) for {'activation': 'relu', 'alpha': 0.05, 'hidden_layer_sizes': (50, 50, 50), 'learning_rate': 'adaptive', 'solver': 'adam'}\n",
      "0.681 (+/-0.001) for {'activation': 'relu', 'alpha': 0.05, 'hidden_layer_sizes': (50, 100, 50), 'learning_rate': 'constant', 'solver': 'sgd'}\n",
      "0.666 (+/-0.008) for {'activation': 'relu', 'alpha': 0.05, 'hidden_layer_sizes': (50, 100, 50), 'learning_rate': 'constant', 'solver': 'adam'}\n",
      "0.684 (+/-0.005) for {'activation': 'relu', 'alpha': 0.05, 'hidden_layer_sizes': (50, 100, 50), 'learning_rate': 'adaptive', 'solver': 'sgd'}\n",
      "0.666 (+/-0.008) for {'activation': 'relu', 'alpha': 0.05, 'hidden_layer_sizes': (50, 100, 50), 'learning_rate': 'adaptive', 'solver': 'adam'}\n",
      "0.676 (+/-0.016) for {'activation': 'relu', 'alpha': 0.05, 'hidden_layer_sizes': (100,), 'learning_rate': 'constant', 'solver': 'sgd'}\n",
      "0.636 (+/-0.071) for {'activation': 'relu', 'alpha': 0.05, 'hidden_layer_sizes': (100,), 'learning_rate': 'constant', 'solver': 'adam'}\n",
      "0.684 (+/-0.007) for {'activation': 'relu', 'alpha': 0.05, 'hidden_layer_sizes': (100,), 'learning_rate': 'adaptive', 'solver': 'sgd'}\n",
      "0.636 (+/-0.071) for {'activation': 'relu', 'alpha': 0.05, 'hidden_layer_sizes': (100,), 'learning_rate': 'adaptive', 'solver': 'adam'}\n"
     ]
    }
   ],
   "source": [
    "mlp = MLPClassifier(random_state=1, max_iter=300)\n",
    "\n",
    "# Set hidden layers sizes, activation function, solver, alpha and learning rate.\n",
    "parameters = {\n",
    "    'hidden_layer_sizes': [(50,50,50), (50,100,50), (100,)],\n",
    "    'activation': ['tanh', 'relu'],\n",
    "    'solver': ['sgd', 'adam'],\n",
    "    'alpha': [0.0001, 0.05],\n",
    "    'learning_rate': ['constant','adaptive'],\n",
    "}\n",
    "#the parameter n_jobs is to define how many CPU cores from your computer to use (-1 is for all the cores available).\n",
    "#The cv is the number of splits for cross-validation.\n",
    "clf = GridSearchCV(mlp, param_grid=parameters, n_jobs=-1, cv=3, scoring='accuracy')\n",
    "clf.fit(train_X, train_y)\n",
    "\n",
    "#here we can see the best parameter was for the MLP\n",
    "print(\"Best parameters found:\",clf.best_params_)\n",
    "\n",
    "# In this instance I can also see the result of each cross validation by plotting the accuracy and standard deviation\n",
    "# As well as the parameters tested in the run\n",
    "means = clf.cv_results_['mean_test_score']\n",
    "stds = clf.cv_results_['std_test_score']\n",
    "for mean, std, params in zip(means, stds, clf.cv_results_['params']):\n",
    "    print(\"%0.3f (+/-%0.03f) for %r\" % (mean, std * 2, params))"
   ]
  },
  {
   "cell_type": "markdown",
   "id": "1f7854f8",
   "metadata": {},
   "source": [
    "**Classification report**"
   ]
  },
  {
   "cell_type": "code",
   "execution_count": 32,
   "id": "94f725e8",
   "metadata": {},
   "outputs": [
    {
     "name": "stdout",
     "output_type": "stream",
     "text": [
      "Classifaction report on validation set\n",
      "              precision    recall  f1-score   support\n",
      "\n",
      "           0       0.82      0.68      0.74      7938\n",
      "           1       0.53      0.70      0.60      4073\n",
      "\n",
      "    accuracy                           0.69     12011\n",
      "   macro avg       0.67      0.69      0.67     12011\n",
      "weighted avg       0.72      0.69      0.70     12011\n",
      "\n"
     ]
    }
   ],
   "source": [
    "true_y, pred_y = val_y, clf.predict(val_X)\n",
    "\n",
    "print('Classifaction report on validation set')\n",
    "print(classification_report(true_y, pred_y))"
   ]
  },
  {
   "cell_type": "code",
   "execution_count": 34,
   "id": "4cd31337",
   "metadata": {},
   "outputs": [
    {
     "data": {
      "text/plain": [
       "<sklearn.metrics._plot.confusion_matrix.ConfusionMatrixDisplay at 0x202da0af100>"
      ]
     },
     "execution_count": 34,
     "metadata": {},
     "output_type": "execute_result"
    },
    {
     "data": {
      "image/png": "[encoded data removed]",
      "text/plain": [
       "<Figure size 432x288 with 2 Axes>"
      ]
     },
     "metadata": {
      "needs_background": "light"
     },
     "output_type": "display_data"
    }
   ],
   "source": [
    "# Instantiate confusion matrix\n",
    "cm = confusion_matrix(val_y, pred_y)\n",
    "\n",
    "# Plot confusion matrix\n",
    "plot_confusion_matrix(clf, val_X, val_y)"
   ]
  },
  {
   "cell_type": "markdown",
   "id": "1a7850a2",
   "metadata": {},
   "source": [
    "**Model accuracies for train and validation sets**"
   ]
  },
  {
   "cell_type": "markdown",
   "id": "ae6eec93",
   "metadata": {},
   "source": [
    "Train set"
   ]
  },
  {
   "cell_type": "code",
   "execution_count": 42,
   "id": "f17fc910",
   "metadata": {},
   "outputs": [
    {
     "name": "stdout",
     "output_type": "stream",
     "text": [
      "Best parameter accuracy:  0.7\n"
     ]
    }
   ],
   "source": [
    "hat_y = clf.predict(train_X)\n",
    "\n",
    "accuracy = accuracy_score(train_y, hat_y)\n",
    "print('Best parameter accuracy: ', round(accuracy, 2))"
   ]
  },
  {
   "cell_type": "markdown",
   "id": "543bc2d0",
   "metadata": {},
   "source": [
    "Validation set"
   ]
  },
  {
   "cell_type": "code",
   "execution_count": 43,
   "id": "8ccabf99",
   "metadata": {},
   "outputs": [
    {
     "name": "stdout",
     "output_type": "stream",
     "text": [
      "Best parameter accuracy:  0.69\n"
     ]
    }
   ],
   "source": [
    "hat_y = clf.predict(val_X)\n",
    "\n",
    "accuracy = accuracy_score(val_y, hat_y)\n",
    "print('Best parameter accuracy: ', round(accuracy, 2))"
   ]
  },
  {
   "cell_type": "markdown",
   "id": "9f999512",
   "metadata": {},
   "source": [
    "### MLP model evaluation"
   ]
  },
  {
   "cell_type": "code",
   "execution_count": 45,
   "id": "3c45d575",
   "metadata": {},
   "outputs": [
    {
     "name": "stderr",
     "output_type": "stream",
     "text": [
      "C:\\Users\\Matt-\\anaconda3\\lib\\site-packages\\sklearn\\neural_network\\_multilayer_perceptron.py:614: ConvergenceWarning: Stochastic Optimizer: Maximum iterations (300) reached and the optimization hasn't converged yet.\n",
      "  warnings.warn(\n"
     ]
    },
    {
     "data": {
      "text/plain": [
       "Pipeline(steps=[('transformer', StandardScaler()),\n",
       "                ('clf',\n",
       "                 MLPClassifier(alpha=0.05, hidden_layer_sizes=(50, 50, 50),\n",
       "                               learning_rate='adaptive', max_iter=300,\n",
       "                               random_state=1, solver='sgd'))])"
      ]
     },
     "execution_count": 45,
     "metadata": {},
     "output_type": "execute_result"
    }
   ],
   "source": [
    "process = [('transformer', StandardScaler()), ('clf', MLPClassifier(random_state=1, max_iter=300, activation='relu', alpha=0.05, hidden_layer_sizes = (50, 50, 50), learning_rate='adaptive', solver='sgd'))]\n",
    "\n",
    "pipe = Pipeline(process)\n",
    "\n",
    "pipe.fit(train_X, train_y)"
   ]
  },
  {
   "cell_type": "markdown",
   "id": "fa064796",
   "metadata": {},
   "source": [
    "**Plot precision and recall**"
   ]
  },
  {
   "cell_type": "code",
   "execution_count": 46,
   "id": "6ef0512c",
   "metadata": {},
   "outputs": [
    {
     "data": {
      "text/plain": [
       "<sklearn.metrics._plot.roc_curve.RocCurveDisplay at 0x202da16e160>"
      ]
     },
     "execution_count": 46,
     "metadata": {},
     "output_type": "execute_result"
    },
    {
     "data": {
      "image/png": "[encoded data removed]",
      "text/plain": [
       "<Figure size 432x288 with 1 Axes>"
      ]
     },
     "metadata": {
      "needs_background": "light"
     },
     "output_type": "display_data"
    },
    {
     "data": {
      "image/png": "[encoded data removed]",
      "text/plain": [
       "<Figure size 432x288 with 1 Axes>"
      ]
     },
     "metadata": {
      "needs_background": "light"
     },
     "output_type": "display_data"
    }
   ],
   "source": [
    "plot_precision_recall_curve(pipe, test_X, test_y)\n",
    "\n",
    "plot_roc_curve(pipe, test_X, test_y)"
   ]
  },
  {
   "cell_type": "markdown",
   "id": "7e334f0a",
   "metadata": {},
   "source": [
    "**Accuracy, balanced accuracy and f1 scores**"
   ]
  },
  {
   "cell_type": "code",
   "execution_count": 49,
   "id": "999e610d",
   "metadata": {},
   "outputs": [
    {
     "name": "stdout",
     "output_type": "stream",
     "text": [
      "0.6858265618755828\n",
      "0.6855288215876452\n",
      "0.5964582085721618\n"
     ]
    }
   ],
   "source": [
    "pred_y = pipe.predict(test_X)\n",
    "\n",
    "acc = accuracy_score(test_y, pred_y)\n",
    "print(acc)\n",
    "\n",
    "bacc = balanced_accuracy_score(test_y, pred_y)\n",
    "print(bacc)\n",
    "\n",
    "f1 = f1_score(test_y, pred_y)\n",
    "print(f1)"
   ]
  },
  {
   "cell_type": "markdown",
   "id": "0c6c2233",
   "metadata": {},
   "source": [
    "### Naive bayes classifier"
   ]
  },
  {
   "cell_type": "markdown",
   "id": "47ec2243",
   "metadata": {},
   "source": [
    "**Basic NB classifier with minimal tuning**"
   ]
  },
  {
   "cell_type": "code",
   "execution_count": 26,
   "id": "07397e19",
   "metadata": {},
   "outputs": [
    {
     "name": "stdout",
     "output_type": "stream",
     "text": [
      "[0 0 1 ... 1 0 0]\n"
     ]
    },
    {
     "data": {
      "text/plain": [
       "0.6911997335775539"
      ]
     },
     "execution_count": 26,
     "metadata": {},
     "output_type": "execute_result"
    }
   ],
   "source": [
    "from sklearn.naive_bayes import GaussianNB\n",
    "\n",
    "nb = GaussianNB()\n",
    "nb.fit(train_X, train_y)\n",
    "nb.predict_proba(val_X[:1])\n",
    "pred_y = nb.predict(val_X)\n",
    "print(pred_y)\n",
    "nb.score(val_X, val_y)"
   ]
  },
  {
   "cell_type": "markdown",
   "id": "e85d224b",
   "metadata": {},
   "source": [
    "**Confusion matrix of basic NB classifier**"
   ]
  },
  {
   "cell_type": "code",
   "execution_count": 25,
   "id": "6180fb52",
   "metadata": {},
   "outputs": [
    {
     "data": {
      "text/plain": [
       "<sklearn.metrics._plot.confusion_matrix.ConfusionMatrixDisplay at 0x1a938f1ba00>"
      ]
     },
     "execution_count": 25,
     "metadata": {},
     "output_type": "execute_result"
    },
    {
     "data": {
      "image/png": "[encoded data removed]",
      "text/plain": [
       "<Figure size 432x288 with 2 Axes>"
      ]
     },
     "metadata": {
      "needs_background": "light"
     },
     "output_type": "display_data"
    }
   ],
   "source": [
    "# Instantiate confusion matrix\n",
    "cm = confusion_matrix(val_y, pred_y)\n",
    "\n",
    "# Plot confusion matrix\n",
    "plot_confusion_matrix(nb, val_X, val_y)"
   ]
  },
  {
   "cell_type": "markdown",
   "id": "cf6e6220",
   "metadata": {},
   "source": [
    "**GridSearchCV to tune hyperparameters of the NB classifier**"
   ]
  },
  {
   "cell_type": "code",
   "execution_count": 27,
   "id": "9815c460",
   "metadata": {},
   "outputs": [
    {
     "name": "stdout",
     "output_type": "stream",
     "text": [
      "Best parameters found: {'var_smoothing': 8.111308307896872e-05}\n",
      "0.591 (+/-0.005) for {'var_smoothing': 1.0}\n",
      "0.595 (+/-0.005) for {'var_smoothing': 0.8111308307896871}\n",
      "0.598 (+/-0.006) for {'var_smoothing': 0.657933224657568}\n",
      "0.602 (+/-0.005) for {'var_smoothing': 0.533669923120631}\n",
      "0.607 (+/-0.005) for {'var_smoothing': 0.43287612810830584}\n",
      "0.610 (+/-0.005) for {'var_smoothing': 0.3511191734215131}\n",
      "0.613 (+/-0.003) for {'var_smoothing': 0.2848035868435802}\n",
      "0.616 (+/-0.005) for {'var_smoothing': 0.23101297000831597}\n",
      "0.619 (+/-0.008) for {'var_smoothing': 0.1873817422860384}\n",
      "0.622 (+/-0.008) for {'var_smoothing': 0.15199110829529336}\n",
      "0.624 (+/-0.007) for {'var_smoothing': 0.12328467394420659}\n",
      "0.627 (+/-0.005) for {'var_smoothing': 0.1}\n",
      "0.629 (+/-0.006) for {'var_smoothing': 0.08111308307896872}\n",
      "0.631 (+/-0.006) for {'var_smoothing': 0.0657933224657568}\n",
      "0.632 (+/-0.006) for {'var_smoothing': 0.0533669923120631}\n",
      "0.634 (+/-0.006) for {'var_smoothing': 0.04328761281083057}\n",
      "0.636 (+/-0.006) for {'var_smoothing': 0.03511191734215131}\n",
      "0.638 (+/-0.006) for {'var_smoothing': 0.02848035868435802}\n",
      "0.638 (+/-0.006) for {'var_smoothing': 0.02310129700083159}\n",
      "0.639 (+/-0.005) for {'var_smoothing': 0.01873817422860384}\n",
      "0.639 (+/-0.003) for {'var_smoothing': 0.01519911082952933}\n",
      "0.639 (+/-0.003) for {'var_smoothing': 0.012328467394420659}\n",
      "0.640 (+/-0.002) for {'var_smoothing': 0.01}\n",
      "0.640 (+/-0.003) for {'var_smoothing': 0.008111308307896872}\n",
      "0.641 (+/-0.003) for {'var_smoothing': 0.006579332246575682}\n",
      "0.642 (+/-0.002) for {'var_smoothing': 0.005336699231206307}\n",
      "0.642 (+/-0.001) for {'var_smoothing': 0.004328761281083057}\n",
      "0.643 (+/-0.002) for {'var_smoothing': 0.003511191734215131}\n",
      "0.644 (+/-0.001) for {'var_smoothing': 0.002848035868435802}\n",
      "0.645 (+/-0.002) for {'var_smoothing': 0.0023101297000831605}\n",
      "0.645 (+/-0.002) for {'var_smoothing': 0.001873817422860383}\n",
      "0.645 (+/-0.003) for {'var_smoothing': 0.0015199110829529332}\n",
      "0.645 (+/-0.004) for {'var_smoothing': 0.0012328467394420659}\n",
      "0.646 (+/-0.003) for {'var_smoothing': 0.001}\n",
      "0.647 (+/-0.004) for {'var_smoothing': 0.0008111308307896872}\n",
      "0.647 (+/-0.003) for {'var_smoothing': 0.0006579332246575676}\n",
      "0.648 (+/-0.002) for {'var_smoothing': 0.0005336699231206307}\n",
      "0.648 (+/-0.004) for {'var_smoothing': 0.0004328761281083057}\n",
      "0.649 (+/-0.005) for {'var_smoothing': 0.0003511191734215131}\n",
      "0.648 (+/-0.005) for {'var_smoothing': 0.0002848035868435802}\n",
      "0.649 (+/-0.005) for {'var_smoothing': 0.0002310129700083158}\n",
      "0.649 (+/-0.005) for {'var_smoothing': 0.0001873817422860383}\n",
      "0.649 (+/-0.005) for {'var_smoothing': 0.0001519911082952933}\n",
      "0.649 (+/-0.004) for {'var_smoothing': 0.0001232846739442066}\n",
      "0.649 (+/-0.003) for {'var_smoothing': 0.0001}\n",
      "0.649 (+/-0.003) for {'var_smoothing': 8.111308307896872e-05}\n",
      "0.649 (+/-0.001) for {'var_smoothing': 6.579332246575683e-05}\n",
      "0.648 (+/-0.002) for {'var_smoothing': 5.3366992312063123e-05}\n",
      "0.648 (+/-0.003) for {'var_smoothing': 4.328761281083062e-05}\n",
      "0.648 (+/-0.002) for {'var_smoothing': 3.511191734215127e-05}\n",
      "0.648 (+/-0.003) for {'var_smoothing': 2.848035868435799e-05}\n",
      "0.649 (+/-0.002) for {'var_smoothing': 2.310129700083158e-05}\n",
      "0.649 (+/-0.003) for {'var_smoothing': 1.873817422860383e-05}\n",
      "0.648 (+/-0.002) for {'var_smoothing': 1.5199110829529332e-05}\n",
      "0.647 (+/-0.004) for {'var_smoothing': 1.2328467394420658e-05}\n",
      "0.646 (+/-0.004) for {'var_smoothing': 1e-05}\n",
      "0.645 (+/-0.006) for {'var_smoothing': 8.111308307896873e-06}\n",
      "0.644 (+/-0.006) for {'var_smoothing': 6.579332246575683e-06}\n",
      "0.642 (+/-0.006) for {'var_smoothing': 5.336699231206313e-06}\n",
      "0.641 (+/-0.007) for {'var_smoothing': 4.328761281083053e-06}\n",
      "0.641 (+/-0.008) for {'var_smoothing': 3.5111917342151275e-06}\n",
      "0.641 (+/-0.008) for {'var_smoothing': 2.848035868435799e-06}\n",
      "0.640 (+/-0.008) for {'var_smoothing': 2.310129700083158e-06}\n",
      "0.640 (+/-0.008) for {'var_smoothing': 1.873817422860383e-06}\n",
      "0.639 (+/-0.009) for {'var_smoothing': 1.519911082952933e-06}\n",
      "0.638 (+/-0.008) for {'var_smoothing': 1.232846739442066e-06}\n",
      "0.638 (+/-0.008) for {'var_smoothing': 1e-06}\n",
      "0.638 (+/-0.008) for {'var_smoothing': 8.111308307896872e-07}\n",
      "0.637 (+/-0.008) for {'var_smoothing': 6.579332246575682e-07}\n",
      "0.637 (+/-0.008) for {'var_smoothing': 5.336699231206313e-07}\n",
      "0.637 (+/-0.008) for {'var_smoothing': 4.3287612810830526e-07}\n",
      "0.636 (+/-0.008) for {'var_smoothing': 3.5111917342151277e-07}\n",
      "0.636 (+/-0.008) for {'var_smoothing': 2.848035868435799e-07}\n",
      "0.636 (+/-0.008) for {'var_smoothing': 2.310129700083158e-07}\n",
      "0.636 (+/-0.007) for {'var_smoothing': 1.873817422860383e-07}\n",
      "0.636 (+/-0.007) for {'var_smoothing': 1.519911082952933e-07}\n",
      "0.636 (+/-0.007) for {'var_smoothing': 1.232846739442066e-07}\n",
      "0.636 (+/-0.007) for {'var_smoothing': 1e-07}\n",
      "0.636 (+/-0.008) for {'var_smoothing': 8.111308307896873e-08}\n",
      "0.636 (+/-0.008) for {'var_smoothing': 6.579332246575682e-08}\n",
      "0.636 (+/-0.008) for {'var_smoothing': 5.336699231206302e-08}\n",
      "0.636 (+/-0.008) for {'var_smoothing': 4.3287612810830526e-08}\n",
      "0.636 (+/-0.008) for {'var_smoothing': 3.5111917342151277e-08}\n",
      "0.636 (+/-0.008) for {'var_smoothing': 2.848035868435799e-08}\n",
      "0.636 (+/-0.008) for {'var_smoothing': 2.310129700083158e-08}\n",
      "0.636 (+/-0.008) for {'var_smoothing': 1.873817422860383e-08}\n",
      "0.636 (+/-0.008) for {'var_smoothing': 1.519911082952933e-08}\n",
      "0.636 (+/-0.008) for {'var_smoothing': 1.232846739442066e-08}\n",
      "0.636 (+/-0.008) for {'var_smoothing': 1e-08}\n",
      "0.636 (+/-0.008) for {'var_smoothing': 8.111308307896856e-09}\n",
      "0.636 (+/-0.008) for {'var_smoothing': 6.579332246575682e-09}\n",
      "0.636 (+/-0.008) for {'var_smoothing': 5.336699231206302e-09}\n",
      "0.636 (+/-0.008) for {'var_smoothing': 4.328761281083061e-09}\n",
      "0.636 (+/-0.008) for {'var_smoothing': 3.5111917342151273e-09}\n",
      "0.636 (+/-0.008) for {'var_smoothing': 2.848035868435805e-09}\n",
      "0.636 (+/-0.008) for {'var_smoothing': 2.310129700083158e-09}\n",
      "0.636 (+/-0.008) for {'var_smoothing': 1.873817422860387e-09}\n",
      "0.636 (+/-0.008) for {'var_smoothing': 1.519911082952933e-09}\n",
      "0.636 (+/-0.008) for {'var_smoothing': 1.2328467394420635e-09}\n",
      "0.636 (+/-0.008) for {'var_smoothing': 1e-09}\n"
     ]
    }
   ],
   "source": [
    "# Create parameter grid\n",
    "parameters = {'var_smoothing': np.logspace(0,-9, num=100)}\n",
    "\n",
    "clf = GridSearchCV(nb, param_grid=parameters, n_jobs=-1, cv=3, scoring='accuracy')\n",
    "clf.fit(train_X, train_y)\n",
    "\n",
    "# List of best parameters for GaussianNB\n",
    "print(\"Best parameters found:\",clf.best_params_)\n",
    "\n",
    "# In this instance I can also see the result of each cross validation by plotting the accuracy and standard deviation\n",
    "# As well as the parameters tested in the run\n",
    "means = clf.cv_results_['mean_test_score']\n",
    "stds = clf.cv_results_['std_test_score']\n",
    "for mean, std, params in zip(means, stds, clf.cv_results_['params']):\n",
    "    print(\"%0.3f (+/-%0.03f) for %r\" % (mean, std * 2, params))"
   ]
  },
  {
   "cell_type": "markdown",
   "id": "fd908145",
   "metadata": {},
   "source": [
    "**Classification report**"
   ]
  },
  {
   "cell_type": "code",
   "execution_count": 28,
   "id": "c090ac76",
   "metadata": {},
   "outputs": [
    {
     "name": "stdout",
     "output_type": "stream",
     "text": [
      "Classifaction report on validation set\n",
      "              precision    recall  f1-score   support\n",
      "\n",
      "           0       0.76      0.81      0.78      7938\n",
      "           1       0.57      0.51      0.54      4073\n",
      "\n",
      "    accuracy                           0.71     12011\n",
      "   macro avg       0.67      0.66      0.66     12011\n",
      "weighted avg       0.70      0.71      0.70     12011\n",
      "\n"
     ]
    }
   ],
   "source": [
    "from sklearn.metrics import classification_report\n",
    "\n",
    "true_y, pred_y = val_y, clf.predict(val_X)\n",
    "\n",
    "print('Classifaction report on validation set')\n",
    "print(classification_report(true_y, pred_y))"
   ]
  },
  {
   "cell_type": "markdown",
   "id": "724570e9",
   "metadata": {},
   "source": [
    "**Confusion matrix**"
   ]
  },
  {
   "cell_type": "code",
   "execution_count": 29,
   "id": "c3286458",
   "metadata": {},
   "outputs": [
    {
     "data": {
      "text/plain": [
       "<sklearn.metrics._plot.confusion_matrix.ConfusionMatrixDisplay at 0x1a93e354070>"
      ]
     },
     "execution_count": 29,
     "metadata": {},
     "output_type": "execute_result"
    },
    {
     "data": {
      "image/png": "[encoded data removed]",
      "text/plain": [
       "<Figure size 432x288 with 2 Axes>"
      ]
     },
     "metadata": {
      "needs_background": "light"
     },
     "output_type": "display_data"
    }
   ],
   "source": [
    "# Instantiate confusion matrix\n",
    "cm = confusion_matrix(val_y, pred_y)\n",
    "\n",
    "# Plot confusion matrix\n",
    "plot_confusion_matrix(clf, val_X, val_y)"
   ]
  },
  {
   "cell_type": "markdown",
   "id": "fd3ffc64",
   "metadata": {},
   "source": [
    "**Model accuracies for train and validation sets**"
   ]
  },
  {
   "cell_type": "markdown",
   "id": "6b7826a0",
   "metadata": {},
   "source": [
    "Train set"
   ]
  },
  {
   "cell_type": "code",
   "execution_count": 31,
   "id": "6c53f48d",
   "metadata": {},
   "outputs": [
    {
     "name": "stdout",
     "output_type": "stream",
     "text": [
      "Best parameter accuracy:  0.65\n"
     ]
    }
   ],
   "source": [
    "hat_y = clf.predict(train_X)\n",
    "\n",
    "accuracy = accuracy_score(train_y, hat_y)\n",
    "print('Best parameter accuracy: ', round(accuracy, 2))"
   ]
  },
  {
   "cell_type": "markdown",
   "id": "8597ff92",
   "metadata": {},
   "source": [
    "Validation set"
   ]
  },
  {
   "cell_type": "code",
   "execution_count": 32,
   "id": "abfafc22",
   "metadata": {},
   "outputs": [
    {
     "name": "stdout",
     "output_type": "stream",
     "text": [
      "Best parameter accuracy:  0.71\n"
     ]
    }
   ],
   "source": [
    "hat_y = clf.predict(val_X)\n",
    "\n",
    "accuracy = accuracy_score(val_y, hat_y)\n",
    "print('Best parameter accuracy: ', round(accuracy, 2))"
   ]
  },
  {
   "cell_type": "markdown",
   "id": "7890ab61",
   "metadata": {},
   "source": [
    "### GaussianNB model evaluation"
   ]
  },
  {
   "cell_type": "code",
   "execution_count": 33,
   "id": "4e0039e8",
   "metadata": {},
   "outputs": [
    {
     "data": {
      "text/plain": [
       "Pipeline(steps=[('transformer', StandardScaler()),\n",
       "                ('clf', GaussianNB(var_smoothing=0.0001))])"
      ]
     },
     "execution_count": 33,
     "metadata": {},
     "output_type": "execute_result"
    }
   ],
   "source": [
    "process = [('transformer', StandardScaler()), ('clf', GaussianNB(var_smoothing=0.0001))]\n",
    "\n",
    "pipe = Pipeline(process)\n",
    "\n",
    "pipe.fit(train_X, train_y)"
   ]
  },
  {
   "cell_type": "markdown",
   "id": "54aa3f3c",
   "metadata": {},
   "source": [
    "**Plot precision and recall**"
   ]
  },
  {
   "cell_type": "code",
   "execution_count": 34,
   "id": "c0c0ef59",
   "metadata": {},
   "outputs": [
    {
     "data": {
      "text/plain": [
       "<sklearn.metrics._plot.roc_curve.RocCurveDisplay at 0x1a93e36d7f0>"
      ]
     },
     "execution_count": 34,
     "metadata": {},
     "output_type": "execute_result"
    },
    {
     "data": {
      "image/png": "[encoded data removed]",
      "text/plain": [
       "<Figure size 432x288 with 1 Axes>"
      ]
     },
     "metadata": {
      "needs_background": "light"
     },
     "output_type": "display_data"
    },
    {
     "data": {
      "image/png": "[encoded data removed]",
      "text/plain": [
       "<Figure size 432x288 with 1 Axes>"
      ]
     },
     "metadata": {
      "needs_background": "light"
     },
     "output_type": "display_data"
    }
   ],
   "source": [
    "plot_precision_recall_curve(pipe, test_X, test_y)\n",
    "\n",
    "plot_roc_curve(pipe, test_X, test_y)"
   ]
  },
  {
   "cell_type": "markdown",
   "id": "7e64a3a9",
   "metadata": {},
   "source": [
    "**Accuracy, balanced accuracy and f1 scores**"
   ]
  },
  {
   "cell_type": "code",
   "execution_count": 36,
   "id": "07714371",
   "metadata": {},
   "outputs": [
    {
     "name": "stdout",
     "output_type": "stream",
     "text": [
      "0.6886239509790862\n",
      "0.6396061510734238\n",
      "0.5148905260973332\n"
     ]
    }
   ],
   "source": [
    "pred_y = pipe.predict(test_X)\n",
    "\n",
    "acc = accuracy_score(test_y, pred_y)\n",
    "print(acc)\n",
    "\n",
    "bacc = balanced_accuracy_score(test_y, pred_y)\n",
    "print(bacc)\n",
    "\n",
    "f1 = f1_score(test_y, pred_y)\n",
    "print(f1)"
   ]
  },
  {
   "cell_type": "markdown",
   "id": "fd398d62",
   "metadata": {},
   "source": [
    "### Decision tree classifier"
   ]
  },
  {
   "cell_type": "markdown",
   "id": "14460621",
   "metadata": {},
   "source": [
    "**Decision tree accuracy score with no tuning**"
   ]
  },
  {
   "cell_type": "code",
   "execution_count": 23,
   "id": "cccea069",
   "metadata": {},
   "outputs": [
    {
     "name": "stdout",
     "output_type": "stream",
     "text": [
      "[1 0 0 ... 1 1 0]\n"
     ]
    },
    {
     "data": {
      "text/plain": [
       "0.5922071434518358"
      ]
     },
     "execution_count": 23,
     "metadata": {},
     "output_type": "execute_result"
    }
   ],
   "source": [
    "from sklearn.tree import DecisionTreeClassifier\n",
    "from itertools import permutations, combinations\n",
    "\n",
    "tree = DecisionTreeClassifier()\n",
    "tree.fit(train_X, train_y)\n",
    "pred_y = tree.predict(val_X)\n",
    "print(pred_y)\n",
    "tree.score(val_X, val_y)"
   ]
  },
  {
   "cell_type": "markdown",
   "id": "b6e3fbef",
   "metadata": {},
   "source": [
    "**Confusion matrix of basic decision tree classifier**"
   ]
  },
  {
   "cell_type": "code",
   "execution_count": 24,
   "id": "da496a18",
   "metadata": {},
   "outputs": [
    {
     "data": {
      "text/plain": [
       "<sklearn.metrics._plot.confusion_matrix.ConfusionMatrixDisplay at 0x255dd1899a0>"
      ]
     },
     "execution_count": 24,
     "metadata": {},
     "output_type": "execute_result"
    },
    {
     "data": {
      "image/png": "[encoded data removed]",
      "text/plain": [
       "<Figure size 432x288 with 2 Axes>"
      ]
     },
     "metadata": {
      "needs_background": "light"
     },
     "output_type": "display_data"
    }
   ],
   "source": [
    "plot_confusion_matrix(tree, val_X, val_y)"
   ]
  },
  {
   "cell_type": "code",
   "execution_count": 25,
   "id": "22a261d4",
   "metadata": {},
   "outputs": [
    {
     "data": {
      "text/plain": [
       "Index(['age', 'weight', 'd1_bun_max', 'd1_glucose_min', 'd1_hco3_min',\n",
       "       'd1_platelets_min', 'd1_potassium_max', 'd1_potassium_min',\n",
       "       'd1_sodium_min', 'h1_glucose_max', 'wbc_apache', 'd1_heartrate_max',\n",
       "       'creatinine_apache', 'gcs_motor_apache', 'ventilated_apache', 'aids',\n",
       "       'hepatic_failure', 'lymphoma', 'solid_tumor_with_metastasis',\n",
       "       'icu_CSICU', 'icu_Cardiac ICU', 'icu_Neuro ICU', 'icu_SICU', 'gen_M',\n",
       "       'eth_African American', 'eth_Caucasian'],\n",
       "      dtype='object')"
      ]
     },
     "execution_count": 25,
     "metadata": {},
     "output_type": "execute_result"
    }
   ],
   "source": [
    "train_X.columns"
   ]
  },
  {
   "cell_type": "markdown",
   "id": "7035afc2",
   "metadata": {},
   "source": [
    "**Cross validation to explore best features to use**"
   ]
  },
  {
   "cell_type": "code",
   "execution_count": 37,
   "id": "db640c81",
   "metadata": {},
   "outputs": [
    {
     "name": "stdout",
     "output_type": "stream",
     "text": [
      "[('h1_glucose_max', 'd1_bun_max', 'age'), ('h1_glucose_max', 'd1_bun_max', 'weight'), ('h1_glucose_max', 'd1_bun_max', 'd1_glucose_min'), ('h1_glucose_max', 'd1_bun_max', 'd1_bun_max'), ('h1_glucose_max', 'age', 'weight'), ('h1_glucose_max', 'age', 'd1_glucose_min'), ('h1_glucose_max', 'age', 'd1_bun_max'), ('h1_glucose_max', 'weight', 'd1_glucose_min'), ('h1_glucose_max', 'weight', 'd1_bun_max'), ('h1_glucose_max', 'd1_glucose_min', 'd1_bun_max'), ('d1_bun_max', 'age', 'weight'), ('d1_bun_max', 'age', 'd1_glucose_min'), ('d1_bun_max', 'age', 'd1_bun_max'), ('d1_bun_max', 'weight', 'd1_glucose_min'), ('d1_bun_max', 'weight', 'd1_bun_max'), ('d1_bun_max', 'd1_glucose_min', 'd1_bun_max'), ('age', 'weight', 'd1_glucose_min'), ('age', 'weight', 'd1_bun_max'), ('age', 'd1_glucose_min', 'd1_bun_max'), ('weight', 'd1_glucose_min', 'd1_bun_max')]\n",
      "[0, 1, 2]\n",
      "[0.6170369461151344]\n",
      "[0, 1, 3]\n",
      "[0.6170369461151344, 0.6447772186080766]\n",
      "[0, 1, 4]\n",
      "[0.6170369461151344, 0.6447772186080766, 0.6268565115993617]\n",
      "[0, 1, 1]\n",
      "[0.6170369461151344, 0.6447772186080766, 0.6268565115993617, 0.5967840923039156]\n",
      "[0, 2, 3]\n",
      "[0.6170369461151344, 0.6447772186080766, 0.6268565115993617, 0.5967840923039156, 0.6358168651037192]\n",
      "[0, 2, 4]\n",
      "[0.6170369461151344, 0.6447772186080766, 0.6268565115993617, 0.5967840923039156, 0.6358168651037192, 0.5904013747391678]\n",
      "[0, 2, 1]\n",
      "[0.6170369461151344, 0.6447772186080766, 0.6268565115993617, 0.5967840923039156, 0.6358168651037192, 0.5904013747391678, 0.6170369461151344]\n",
      "[0, 3, 4]\n",
      "[0.6170369461151344, 0.6447772186080766, 0.6268565115993617, 0.5967840923039156, 0.6358168651037192, 0.5904013747391678, 0.6170369461151344, 0.6376580336320118]\n",
      "[0, 3, 1]\n",
      "[0.6170369461151344, 0.6447772186080766, 0.6268565115993617, 0.5967840923039156, 0.6358168651037192, 0.5904013747391678, 0.6170369461151344, 0.6376580336320118, 0.6366760770835891]\n",
      "[0, 4, 1]\n",
      "[0.6170369461151344, 0.6447772186080766, 0.6268565115993617, 0.5967840923039156, 0.6358168651037192, 0.5904013747391678, 0.6170369461151344, 0.6376580336320118, 0.6366760770835891, 0.6263655333251503]\n",
      "[1, 2, 3]\n",
      "[0.6170369461151344, 0.6447772186080766, 0.6268565115993617, 0.5967840923039156, 0.6358168651037192, 0.5904013747391678, 0.6170369461151344, 0.6376580336320118, 0.6366760770835891, 0.6263655333251503, 0.6424450718055726]\n",
      "[1, 2, 4]\n",
      "[0.6170369461151344, 0.6447772186080766, 0.6268565115993617, 0.5967840923039156, 0.6358168651037192, 0.5904013747391678, 0.6170369461151344, 0.6376580336320118, 0.6366760770835891, 0.6263655333251503, 0.6424450718055726, 0.608076592610777]\n",
      "[1, 2, 1]\n",
      "[0.6170369461151344, 0.6447772186080766, 0.6268565115993617, 0.5967840923039156, 0.6358168651037192, 0.5904013747391678, 0.6170369461151344, 0.6376580336320118, 0.6366760770835891, 0.6263655333251503, 0.6424450718055726, 0.608076592610777, 0.6067264023566957]\n",
      "[1, 3, 4]\n",
      "[0.6170369461151344, 0.6447772186080766, 0.6268565115993617, 0.5967840923039156, 0.6358168651037192, 0.5904013747391678, 0.6170369461151344, 0.6376580336320118, 0.6366760770835891, 0.6263655333251503, 0.6424450718055726, 0.608076592610777, 0.6067264023566957, 0.6295568921075242]\n",
      "[1, 3, 1]\n",
      "[0.6170369461151344, 0.6447772186080766, 0.6268565115993617, 0.5967840923039156, 0.6358168651037192, 0.5904013747391678, 0.6170369461151344, 0.6376580336320118, 0.6366760770835891, 0.6263655333251503, 0.6424450718055726, 0.608076592610777, 0.6067264023566957, 0.6295568921075242, 0.6232969191113293]\n",
      "[1, 4, 1]\n",
      "[0.6170369461151344, 0.6447772186080766, 0.6268565115993617, 0.5967840923039156, 0.6358168651037192, 0.5904013747391678, 0.6170369461151344, 0.6376580336320118, 0.6366760770835891, 0.6263655333251503, 0.6424450718055726, 0.608076592610777, 0.6067264023566957, 0.6295568921075242, 0.6232969191113293, 0.5859825702712655]\n",
      "[2, 3, 4]\n",
      "[0.6170369461151344, 0.6447772186080766, 0.6268565115993617, 0.5967840923039156, 0.6358168651037192, 0.5904013747391678, 0.6170369461151344, 0.6376580336320118, 0.6366760770835891, 0.6263655333251503, 0.6424450718055726, 0.608076592610777, 0.6067264023566957, 0.6295568921075242, 0.6232969191113293, 0.5859825702712655, 0.62980238124463]\n",
      "[2, 3, 1]\n",
      "[0.6170369461151344, 0.6447772186080766, 0.6268565115993617, 0.5967840923039156, 0.6358168651037192, 0.5904013747391678, 0.6170369461151344, 0.6376580336320118, 0.6366760770835891, 0.6263655333251503, 0.6424450718055726, 0.608076592610777, 0.6067264023566957, 0.6295568921075242, 0.6232969191113293, 0.5859825702712655, 0.62980238124463, 0.6428133055112312]\n",
      "[2, 4, 1]\n",
      "[0.6170369461151344, 0.6447772186080766, 0.6268565115993617, 0.5967840923039156, 0.6358168651037192, 0.5904013747391678, 0.6170369461151344, 0.6376580336320118, 0.6366760770835891, 0.6263655333251503, 0.6424450718055726, 0.608076592610777, 0.6067264023566957, 0.6295568921075242, 0.6232969191113293, 0.5859825702712655, 0.62980238124463, 0.6428133055112312, 0.6228059408371179]\n",
      "[3, 4, 1]\n",
      "[0.6170369461151344, 0.6447772186080766, 0.6268565115993617, 0.5967840923039156, 0.6358168651037192, 0.5904013747391678, 0.6170369461151344, 0.6376580336320118, 0.6366760770835891, 0.6263655333251503, 0.6424450718055726, 0.608076592610777, 0.6067264023566957, 0.6295568921075242, 0.6232969191113293, 0.5859825702712655, 0.62980238124463, 0.6428133055112312, 0.6228059408371179, 0.6318890389100282]\n"
     ]
    }
   ],
   "source": [
    "features_to_use = ['h1_glucose_max', 'd1_bun_max', 'age', 'weight', 'd1_glucose_min', 'd1_bun_max']\n",
    "\n",
    "criterion_parameter = list(combinations(features_to_use, 3))\n",
    "print(criterion_parameter)\n",
    "\n",
    "accuracies = []\n",
    "for feature_set in criterion_parameter:\n",
    "    # get the position of the indexes to the features\n",
    "    index_map = [features_to_use.index(feature) for feature in feature_set]\n",
    "    \n",
    "    print(index_map)\n",
    "\n",
    "    #pass in a smaller set of the whole train to limit params, by selecting the appropriate columns.\n",
    "    train_X_cv, val_X_cv, train_y_cv, val_y_cv = train_test_split(train_X.iloc[:, index_map], train_y)\n",
    "\n",
    "    #build classifier with our current parameter.\n",
    "    clf_tree_cv = DecisionTreeClassifier()\n",
    "    \n",
    "    #fit our parameterised model to the cross-validated data.\n",
    "    clf_tree_cv.fit(train_X_cv, train_y_cv)\n",
    "\n",
    "    #obtain predictions on the cv test set.\n",
    "    hat_y_cv = clf_tree_cv.predict(val_X_cv)\n",
    "\n",
    "    #append the accuracies to the list of all of them.\n",
    "    accuracies.append(accuracy_score(val_y_cv, hat_y_cv))\n",
    "    \n",
    "    print(accuracies)"
   ]
  },
  {
   "cell_type": "markdown",
   "id": "1d27f3a8",
   "metadata": {},
   "source": [
    "**Best accuracy score feature combination**"
   ]
  },
  {
   "cell_type": "code",
   "execution_count": 28,
   "id": "e870d421",
   "metadata": {},
   "outputs": [
    {
     "name": "stdout",
     "output_type": "stream",
     "text": [
      "('d1_bun_max', 'age', 'weight')\n",
      "[1, 2, 3]\n",
      "0.5500790941636833\n"
     ]
    }
   ],
   "source": [
    "best_features = criterion_parameter[np.argmax(accuracies)]\n",
    "print(best_features)\n",
    "\n",
    "index_map = [features_to_use.index(feature) for feature in best_features]\n",
    "\n",
    "print(index_map)\n",
    "\n",
    "# train the classifier using the best feature set.\n",
    "clf = DecisionTreeClassifier()\n",
    "clf.fit(train_X.iloc[:, index_map], train_y)\n",
    "\n",
    "# evaluate the accuracy using the unseen test data.\n",
    "score = accuracy_score(val_y, clf.predict(val_X.iloc[:, index_map]))\n",
    "print(score)"
   ]
  },
  {
   "cell_type": "markdown",
   "id": "ab7715a9",
   "metadata": {},
   "source": [
    "**Classification report**"
   ]
  },
  {
   "cell_type": "code",
   "execution_count": 31,
   "id": "4f9b35be",
   "metadata": {},
   "outputs": [
    {
     "name": "stdout",
     "output_type": "stream",
     "text": [
      "Classification report on validation set\n",
      "              precision    recall  f1-score   support\n",
      "\n",
      "           0       0.72      0.52      0.61      7938\n",
      "           1       0.39      0.61      0.48      4073\n",
      "\n",
      "    accuracy                           0.55     12011\n",
      "   macro avg       0.56      0.56      0.54     12011\n",
      "weighted avg       0.61      0.55      0.56     12011\n",
      "\n"
     ]
    }
   ],
   "source": [
    "true_y, pred_y = val_y, clf.predict(val_X.iloc[:, index_map])\n",
    "\n",
    "print('Classification report on validation set')\n",
    "print(classification_report(true_y, pred_y))"
   ]
  },
  {
   "cell_type": "markdown",
   "id": "6a17a3a7",
   "metadata": {},
   "source": [
    "**Confusion matrix**"
   ]
  },
  {
   "cell_type": "code",
   "execution_count": 33,
   "id": "204ec39b",
   "metadata": {},
   "outputs": [
    {
     "data": {
      "text/plain": [
       "<sklearn.metrics._plot.confusion_matrix.ConfusionMatrixDisplay at 0x255d83e1790>"
      ]
     },
     "execution_count": 33,
     "metadata": {},
     "output_type": "execute_result"
    },
    {
     "data": {
      "image/png": "[encoded data removed]",
      "text/plain": [
       "<Figure size 432x288 with 2 Axes>"
      ]
     },
     "metadata": {
      "needs_background": "light"
     },
     "output_type": "display_data"
    }
   ],
   "source": [
    "plot_confusion_matrix(clf, val_X.iloc[:, index_map], val_y)"
   ]
  },
  {
   "cell_type": "markdown",
   "id": "bcb29f3b",
   "metadata": {},
   "source": [
    "### Decision tree model evalutation"
   ]
  },
  {
   "cell_type": "code",
   "execution_count": 34,
   "id": "06829e62",
   "metadata": {},
   "outputs": [
    {
     "data": {
      "text/plain": [
       "Pipeline(steps=[('transformer', StandardScaler()),\n",
       "                ('clf', DecisionTreeClassifier())])"
      ]
     },
     "execution_count": 34,
     "metadata": {},
     "output_type": "execute_result"
    }
   ],
   "source": [
    "process = [('transformer', StandardScaler()), ('clf', DecisionTreeClassifier())]\n",
    "\n",
    "pipe = Pipeline(process)\n",
    "\n",
    "pipe.fit(train_X.iloc[:, index_map], train_y)"
   ]
  },
  {
   "cell_type": "markdown",
   "id": "88e17491",
   "metadata": {},
   "source": [
    "**Plot precision and recall**"
   ]
  },
  {
   "cell_type": "code",
   "execution_count": 35,
   "id": "04ddca7d",
   "metadata": {},
   "outputs": [
    {
     "data": {
      "text/plain": [
       "<sklearn.metrics._plot.roc_curve.RocCurveDisplay at 0x255de001d00>"
      ]
     },
     "execution_count": 35,
     "metadata": {},
     "output_type": "execute_result"
    },
    {
     "data": {
      "image/png": "[encoded data removed]",
      "text/plain": [
       "<Figure size 432x288 with 1 Axes>"
      ]
     },
     "metadata": {
      "needs_background": "light"
     },
     "output_type": "display_data"
    },
    {
     "data": {
      "image/png": "[encoded data removed]",
      "text/plain": [
       "<Figure size 432x288 with 1 Axes>"
      ]
     },
     "metadata": {
      "needs_background": "light"
     },
     "output_type": "display_data"
    }
   ],
   "source": [
    "plot_precision_recall_curve(pipe, test_X.iloc[:, index_map], test_y)\n",
    "\n",
    "plot_roc_curve(pipe, test_X.iloc[:, index_map], test_y)"
   ]
  },
  {
   "cell_type": "markdown",
   "id": "067dca1e",
   "metadata": {},
   "source": [
    "**Accuracy, balanced accuracy and f1 scores**"
   ]
  },
  {
   "cell_type": "code",
   "execution_count": 36,
   "id": "5eb1cfa4",
   "metadata": {},
   "outputs": [
    {
     "name": "stdout",
     "output_type": "stream",
     "text": [
      "0.5428932995870521\n",
      "0.5583130309580477\n",
      "0.47357520902048017\n"
     ]
    }
   ],
   "source": [
    "pred_y = pipe.predict(test_X.iloc[:, index_map])\n",
    "\n",
    "acc = accuracy_score(test_y, pred_y)\n",
    "print(acc)\n",
    "\n",
    "bacc = balanced_accuracy_score(test_y, pred_y)\n",
    "print(bacc)\n",
    "\n",
    "f1 = f1_score(test_y, pred_y)\n",
    "print(f1)"
   ]
  }
 ],
 "metadata": {
  "kernelspec": {
   "display_name": "Python 3",
   "language": "python",
   "name": "python3"
  },
  "language_info": {
   "codemirror_mode": {
    "name": "ipython",
    "version": 3
   },
   "file_extension": ".py",
   "mimetype": "text/x-python",
   "name": "python",
   "nbconvert_exporter": "python",
   "pygments_lexer": "ipython3",
   "version": "3.8.8"
  }
 },
 "nbformat": 4,
 "nbformat_minor": 5
}
